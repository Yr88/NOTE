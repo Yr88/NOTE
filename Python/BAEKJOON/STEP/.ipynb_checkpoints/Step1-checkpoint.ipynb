{
 "cells": [
  {
   "cell_type": "markdown",
   "id": "bd6d192f",
   "metadata": {},
   "source": [
    "# 입출력과 사칙연산\n",
    "\n",
    "### [단계 1] 2557번 Hello world\n",
    "#### 문제\n",
    "Hello World!를 출력하시오.\n",
    "#### 입력\n",
    "없음.\n",
    "#### 출력\n",
    "Hello world!를 출력하시오.\n",
    "#### 예제:\n",
    " - 예제 출력: Hello World!\n",
    "\n",
    "#### 정답"
   ]
  },
  {
   "cell_type": "code",
   "execution_count": 25,
   "id": "19f6630f",
   "metadata": {},
   "outputs": [
    {
     "name": "stdout",
     "output_type": "stream",
     "text": [
      "Hello World!\n"
     ]
    }
   ],
   "source": [
    "print(\"Hello World!\")"
   ]
  },
  {
   "cell_type": "markdown",
   "id": "5fb89f09",
   "metadata": {},
   "source": [
    "### [단계 2] 1000번 A+B\n",
    "#### 문제\n",
    "두 정수 A와 B를 입력받은 다음, A+B를 출력하는 프로그램을 작성하시오.\n",
    "#### 입력\n",
    "첫째 줄에 A와 B가 주어진다. (0 < A, B < 10)\n",
    "#### 출력\n",
    "첫째 줄에 A+B를 출력한다\n",
    "#### 예제:\n",
    " - 예제 입력: 1 2\n",
    " - 예제 출력: 3\n",
    "\n",
    "#### 정답"
   ]
  },
  {
   "cell_type": "code",
   "execution_count": 11,
   "id": "f6355944",
   "metadata": {},
   "outputs": [
    {
     "name": "stdout",
     "output_type": "stream",
     "text": [
      "1 2\n",
      "3\n"
     ]
    }
   ],
   "source": [
    "a, b = map(int, input().split())\n",
    "print(a+b)"
   ]
  },
  {
   "cell_type": "markdown",
   "id": "38225d89",
   "metadata": {},
   "source": [
    "### [단계 3] 1001번 A-B\n",
    "#### 문제\n",
    "두 정수 A와 B를 입력받은 다음, A-B를 출력하는 프로그램을 작성하시오.\n",
    "#### 입력\n",
    "첫째 줄에 A와 B가 주어진다. (0 < A, B < 10)\n",
    "#### 출력\n",
    "첫째 줄에 A-B를 출력한다.\n",
    "#### 예제:\n",
    " - 예제 입력: 3 2\n",
    " - 예제 출력: 1\n",
    "\n",
    "#### 정답"
   ]
  },
  {
   "cell_type": "code",
   "execution_count": 12,
   "id": "5a399456",
   "metadata": {},
   "outputs": [
    {
     "name": "stdout",
     "output_type": "stream",
     "text": [
      "3 2\n",
      "1\n"
     ]
    }
   ],
   "source": [
    "a, b = map(int, input().split())\n",
    "print(a-b)"
   ]
  },
  {
   "cell_type": "markdown",
   "id": "8a0bd263",
   "metadata": {},
   "source": [
    "### [단계 4] 10998번 AxB\n",
    "#### 문제\n",
    "A와 B를 입력받은 다음, A×B를 출력하는 프로그램을 작성하시오.\n",
    "#### 입력\n",
    "첫째 줄에 A와 B가 주어진다. (0 < A, B < 10)\n",
    "#### 출력\n",
    "첫째 줄에 A×B를 출력한다.\n",
    "#### 예제:\n",
    " - 예제1 입력: 1 2\n",
    " - 예제1 출력: 2\n",
    " - 예제2 입력: 3 4\n",
    " - 예제2 출력: 12\n",
    "\n",
    "#### 정답"
   ]
  },
  {
   "cell_type": "code",
   "execution_count": 13,
   "id": "d67660b8",
   "metadata": {},
   "outputs": [
    {
     "name": "stdout",
     "output_type": "stream",
     "text": [
      "1 2\n",
      "2\n"
     ]
    }
   ],
   "source": [
    "a, b = map(int, input().split())\n",
    "print(a*b)"
   ]
  },
  {
   "cell_type": "markdown",
   "id": "fdcc700e",
   "metadata": {},
   "source": [
    "### [단계 5] 10998번 AxB\n",
    "#### 문제\n",
    "두 정수 A와 B를 입력받은 다음, A/B를 출력하는 프로그램을 작성하시오.\n",
    "#### 입력\n",
    "첫째 줄에 A와 B가 주어진다. (0 < A, B < 10)\n",
    "#### 출력\n",
    "첫째 줄에 A/B를 출력한다. 실제 정답과 출력값의 절대오차 또는 상대오차가 10-9 이하이면 정답이다.\n",
    "#### 예제:\n",
    " - 예제1 입력: 1 3\n",
    " - 예제1 출력:`0.33333333333333333333333333333333`\n",
    "   (10^-9 이하의 오차를 허용한다는 말은 꼭 소수 9번째 자리까지만 출력하라는 뜻이 아님)\n",
    " - 예제2 입력: 4 5\n",
    " - 예제2 출력: 0.8\n",
    "\n",
    "#### 정답"
   ]
  },
  {
   "cell_type": "code",
   "execution_count": 15,
   "id": "20e7a133",
   "metadata": {},
   "outputs": [
    {
     "name": "stdout",
     "output_type": "stream",
     "text": [
      "1 3\n",
      "0.3333333333333333\n"
     ]
    }
   ],
   "source": [
    "a, b = map(int, input().split())\n",
    "# '/' 연산자: 나눗셈 float 결과\n",
    "# '//' 연산자: 나눗셈 int 결과\n",
    "print(a/b)"
   ]
  },
  {
   "cell_type": "markdown",
   "id": "6d9d6e13",
   "metadata": {},
   "source": [
    "### [단계 6] 10869번 사칙연산\n",
    "#### 문제\n",
    "두 자연수 A와 B가 주어진다. 이때, A+B, A-B, A*B, A/B(몫), A%B(나머지)를 출력하는 프로그램을 작성하시오.\n",
    "#### 입력\n",
    "두 자연수 A와 B가 주어진다. (1 ≤ A, B ≤ 10,000)\n",
    "#### 출력\n",
    "첫째 줄에 A+B, 둘째 줄에 A-B, 셋째 줄에 A*B, 넷째 줄에 A/B, 다섯째 줄에 A%B를 출력한다.\n",
    "#### 예제:\n",
    " - 예제 입력: 7 3\n",
    " - 예제 출력:  \n",
    " 10\n",
    " \n",
    " 4\n",
    " \n",
    " 21\n",
    " \n",
    " 2\n",
    " \n",
    " 1\n",
    " \n",
    "\n",
    "#### 정답"
   ]
  },
  {
   "cell_type": "code",
   "execution_count": 16,
   "id": "80206f7b",
   "metadata": {},
   "outputs": [
    {
     "name": "stdout",
     "output_type": "stream",
     "text": [
      "7 3\n",
      "10 4 21 2 1\n"
     ]
    }
   ],
   "source": [
    "A,B = map(int, input().split())\n",
    "#print - 기본적으로 줄바꿈 포함\n",
    "print(A+B, A-B, A*B, A//B, A%B) "
   ]
  },
  {
   "cell_type": "markdown",
   "id": "c4bef06d",
   "metadata": {},
   "source": [
    "### [단계 7] 10926번 ??!\n",
    "#### 문제\n",
    "준하는 사이트에 회원가입을 하다가 joonas라는 아이디가 이미 존재하는 것을 보고 놀랐다. 준하는 놀람을 ??!로 표현한다. 준하가 가입하려고 하는 사이트에 이미 존재하는 아이디가 주어졌을 때, 놀람을 표현하는 프로그램을 작성하시오.\n",
    "#### 입력\n",
    "첫째 줄에 준하가 가입하려고 하는 사이트에 이미 존재하는 아이디가 주어진다. 아이디는 알파벳 소문자로만 이루어져 있으며, 길이는 50자를 넘지 않는다.\n",
    "#### 출력\n",
    "첫째 줄에 준하의 놀람을 출력한다. 놀람은 아이디 뒤에 ??!를 붙여서 나타낸다.\n",
    "#### 예제:\n",
    " - 예제1 입력: joonas\n",
    " - 예제1 출력: joonas??!\n",
    " - 예제2 입력: baekjoon\n",
    " - 예제2 출력: baekjoon?!\n",
    " \n",
    "\n",
    "#### 정답"
   ]
  },
  {
   "cell_type": "code",
   "execution_count": 17,
   "id": "5927d643",
   "metadata": {},
   "outputs": [
    {
     "name": "stdout",
     "output_type": "stream",
     "text": [
      "joonas\n",
      "joonas??!\n"
     ]
    }
   ],
   "source": [
    "JunId = input()\n",
    "print(JunId+\"??!\")"
   ]
  },
  {
   "cell_type": "markdown",
   "id": "0c5d3812",
   "metadata": {},
   "source": [
    "### [단계 8] 18108번 1998년생인 내가 태국에서는 2541년생?!\n",
    "#### 문제\n",
    "ICPC Bangkok Regional에 참가하기 위해 수완나품 국제공항에 막 도착한 팀 레드시프트 일행은 눈을 믿을 수 없었다. 공항의 대형 스크린에 올해가 2562년이라고 적혀 있던 것이었다. 불교 국가인 태국은 불멸기원(佛滅紀元), 즉 석가모니가 열반한 해를 기준으로 연도를 세는 불기를 사용한다. 반면, 우리나라는 서기 연도를 사용하고 있다. 불기 연도가 주어질 때 이를 서기 연도로 바꿔 주는 프로그램을 작성하시오.\n",
    "#### 입력\n",
    "서기 연도를 알아보고 싶은 불기 연도 y가 주어진다. (1000 ≤ y ≤ 3000)\n",
    "#### 출력\n",
    "불기 연도를 서기 연도로 변환한 결과를 출력한다.\n",
    "#### 예제:\n",
    " - 예제 입력: 2541\n",
    " - 예제 출력: 1998\n",
    " \n",
    "\n",
    "#### 정답"
   ]
  },
  {
   "cell_type": "code",
   "execution_count": 18,
   "id": "ee392480",
   "metadata": {},
   "outputs": [
    {
     "name": "stdout",
     "output_type": "stream",
     "text": [
      "2541\n",
      "1998\n"
     ]
    }
   ],
   "source": [
    "year = int(input())\n",
    "print(year-543)"
   ]
  },
  {
   "cell_type": "markdown",
   "id": "562eda84",
   "metadata": {},
   "source": [
    "### [단계 9] 10430번 나머지\n",
    "#### 문제\n",
    "(A+B)%C는 ((A%C) + (B%C))%C 와 같을까?\n",
    "\n",
    "\n",
    "(A×B)%C는 ((A%C) × (B%C))%C 와 같을까?\n",
    "\n",
    "\n",
    "세 수 A, B, C가 주어졌을 때, 위의 네 가지 값을 구하는 프로그램을 작성하시오.\n",
    "#### 입력\n",
    "첫째 줄에 A, B, C가 순서대로 주어진다. (2 ≤ A, B, C ≤ 10000)\n",
    "#### 출력\n",
    "첫째 줄에 (A+B)%C, 둘째 줄에 ((A%C) + (B%C))%C, 셋째 줄에 (A×B)%C, 넷째 줄에 ((A%C) × (B%C))%C를 출력한다.\n",
    "#### 예제:\n",
    " - 예제 입력: 5 8 4 \n",
    " - 예제 출력:  \n",
    " 1\n",
    " \n",
    " 2\n",
    " \n",
    " 0\n",
    " \n",
    " 0\n",
    " \n",
    "\n",
    "#### 정답"
   ]
  },
  {
   "cell_type": "code",
   "execution_count": 19,
   "id": "6f016b74",
   "metadata": {},
   "outputs": [
    {
     "name": "stdout",
     "output_type": "stream",
     "text": [
      "5 8 4\n",
      "1\n",
      "1\n",
      "0\n",
      "0\n"
     ]
    }
   ],
   "source": [
    "A,B,C = map(int, input().split())\n",
    "print((A+B)%C)\n",
    "print(((A%C) + (B%C))%C)\n",
    "print((A*B)%C);\n",
    "print(((A%C)*(B%C))%C);"
   ]
  },
  {
   "cell_type": "markdown",
   "id": "09210b81",
   "metadata": {},
   "source": [
    "### [단계 10] 2588번 곱셈\n",
    "#### 문제\n",
    "(세 자리 수) × (세 자리 수)는 다음과 같은 과정을 통하여 이루어진다.\n",
    "![https://www.acmicpc.net/upload/images/f5NhGHVLM4Ix74DtJrwfC97KepPl27s%20(1).png](https://www.acmicpc.net/upload/images/f5NhGHVLM4Ix74DtJrwfC97KepPl27s%20(1).png)\n",
    "(1)과 (2)위치에 들어갈 세 자리 자연수가 주어질 때 (3), (4), (5), (6)위치에 들어갈 값을 구하는 프로그램을 작성하시오.\n",
    "#### 입력\n",
    "첫째 줄에 (1)의 위치에 들어갈 세 자리 자연수가, 둘째 줄에 (2)의 위치에 들어갈 세자리 자연수가 주어진다.\n",
    "#### 출력\n",
    "첫째 줄부터 넷째 줄까지 차례대로 (3), (4), (5), (6)에 들어갈 값을 출력한다.\n",
    "#### 예제:\n",
    " - 예제 입력:  \n",
    " 472  \n",
    " 385\n",
    " - 예제 출력:  \n",
    " 2360  \n",
    " 3776  \n",
    " 1416  \n",
    " 181720\n",
    " \n",
    "\n",
    "#### 정답"
   ]
  },
  {
   "cell_type": "code",
   "execution_count": 20,
   "id": "58d8b2b5",
   "metadata": {},
   "outputs": [
    {
     "name": "stdout",
     "output_type": "stream",
     "text": [
      "472\n",
      "385\n",
      "2360\n",
      "3776\n",
      "1416\n",
      "181720\n"
     ]
    }
   ],
   "source": [
    "A = int(input())\n",
    "B = int(input())\n",
    "B3 = B//100\n",
    "B2 = B%100//10\n",
    "B1 = B%10\n",
    "print(A*B1)\n",
    "print(A*B2)\n",
    "print(A*B3)\n",
    "print((A*B1)+((A*B2)*10)+((A*B3)*100))"
   ]
  },
  {
   "cell_type": "markdown",
   "id": "62bc3efd",
   "metadata": {},
   "source": [
    "### [단계 11] 11382번 꼬마 정민\n",
    "#### 문제\n",
    "꼬마 정민이는 이제 A+B 정도는 쉽게 계산할 수 있다. 이제 A + B + C를 계산할 차례이다!\n",
    "#### 입력\n",
    "첫 번째 줄에 A, B, C (1 ≤ A, B, C ≤ 1012)이 공백을 사이에 두고 주어진다.\n",
    "#### 출력\n",
    "A+B+C의 값을 출력한다.\n",
    "#### 예제:\n",
    " - 예제 입력: 77 77 7777\n",
    " - 예제 출력: 7931\n",
    " \n",
    "\n",
    "#### 정답"
   ]
  },
  {
   "cell_type": "code",
   "execution_count": 22,
   "id": "e133f874",
   "metadata": {},
   "outputs": [
    {
     "name": "stdout",
     "output_type": "stream",
     "text": [
      "77 77 7777\n",
      "7931\n"
     ]
    }
   ],
   "source": [
    "A,B,C = map(int, input().split())\n",
    "print(A+B+C)"
   ]
  },
  {
   "cell_type": "markdown",
   "id": "2321ecd7",
   "metadata": {},
   "source": [
    "### [단계 12] 10171번 고양이\n",
    "#### 문제\n",
    "아래 예제와 같이 고양이를 출력하시오.\n",
    "#### 입력\n",
    "없음.\n",
    "#### 출력\n",
    "고양이를 출력한다.\n",
    "#### 예제:\n",
    " - 예제 출력: (고양이 그림)\n",
    " \n",
    "\n",
    "#### 정답"
   ]
  },
  {
   "cell_type": "code",
   "execution_count": 23,
   "id": "6abbc6be",
   "metadata": {},
   "outputs": [
    {
     "name": "stdout",
     "output_type": "stream",
     "text": [
      "\\    /\\\n",
      " )  ( ')\n",
      "(  /  )\n",
      " \\(__)|\n"
     ]
    }
   ],
   "source": [
    "print(\"\\\\    /\\\\\")\n",
    "print(\" )  ( ')\")\n",
    "print(\"(  /  )\")\n",
    "print(\" \\(__)|\")"
   ]
  },
  {
   "cell_type": "markdown",
   "id": "fc1a6712",
   "metadata": {},
   "source": [
    "### [단계 13] 10172번 개\n",
    "#### 문제\n",
    "아래 예제와 같이 개를 출력하시오.\n",
    "#### 입력\n",
    "없음.\n",
    "#### 출력\n",
    "개를 출력한다.\n",
    "#### 예제:\n",
    " - 예제 출력: (개 그림)\n",
    " \n",
    "\n",
    "#### 정답"
   ]
  },
  {
   "cell_type": "code",
   "execution_count": 26,
   "id": "884622e9",
   "metadata": {},
   "outputs": [
    {
     "name": "stdout",
     "output_type": "stream",
     "text": [
      "|\\_/|\n",
      "|q p|   /}\n",
      "( 0 )\"\"\"\\\n",
      "|\"^\"`    |\n",
      "||_/=\\\\__|\n"
     ]
    }
   ],
   "source": [
    "print(\"|\\\\_/|\")\n",
    "print(\"|q p|   /}\")\n",
    "print(\"( 0 )\\\"\\\"\\\"\\\\\")\n",
    "print(\"|\\\"^\\\"`    |\")\n",
    "print(\"||_/=\\\\\\\\__|\")"
   ]
  }
 ],
 "metadata": {
  "kernelspec": {
   "display_name": "Python 3 (ipykernel)",
   "language": "python",
   "name": "python3"
  },
  "language_info": {
   "codemirror_mode": {
    "name": "ipython",
    "version": 3
   },
   "file_extension": ".py",
   "mimetype": "text/x-python",
   "name": "python",
   "nbconvert_exporter": "python",
   "pygments_lexer": "ipython3",
   "version": "3.9.13"
  }
 },
 "nbformat": 4,
 "nbformat_minor": 5
}
