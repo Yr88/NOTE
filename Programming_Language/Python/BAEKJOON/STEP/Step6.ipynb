{
 "cells": [
  {
   "cell_type": "markdown",
   "id": "c5d946a1",
   "metadata": {},
   "source": [
    "# 심화 1\n",
    "\n",
    "### [단계 1] 25083번 새싹\n",
    "#### 문제\n",
    "아래 예제와 같이 새싹을 출력하시오.\n",
    "#### 입력\n",
    "입력은 없다.\n",
    "#### 출력\n",
    "새싹을 출력한다.\n",
    "#### 예제:\n",
    " - 예제 입력:\n",
    " - 예제 출력: (새싹 그림)\n",
    "#### 정답"
   ]
  },
  {
   "cell_type": "code",
   "execution_count": 2,
   "id": "1a75dbd2",
   "metadata": {},
   "outputs": [
    {
     "name": "stdout",
     "output_type": "stream",
     "text": [
      "         ,r'\"7\n",
      "r`-_   ,'  ,/\n",
      " \\. \". L_r'\n",
      "   `~\\/\n",
      "      |\n",
      "      |\n",
      "\n"
     ]
    }
   ],
   "source": [
    "#제출할 때 Enter, tab 등을 주의해야함\n",
    "print(\n",
    "'''         ,r'\"7\n",
    "r`-_   ,'  ,/\n",
    " \\. \". L_r'\n",
    "   `~\\/\n",
    "      |\n",
    "      |\n",
    "''')"
   ]
  },
  {
   "cell_type": "markdown",
   "id": "69daf57c",
   "metadata": {},
   "source": [
    "### [단계 2] 3003번 킹, 퀸, 룩, 비숍, 나이트, 폰\n",
    "#### 문제\n",
    "동혁이는 오래된 창고를 뒤지다가 낡은 체스판과 피스를 발견했다.\n",
    "\n",
    "체스판의 먼지를 털어내고 걸레로 닦으니 그럭저럭 쓸만한 체스판이 되었다. 하지만, 검정색 피스는 모두 있었으나, 흰색 피스는 개수가 올바르지 않았다.\n",
    "\n",
    "체스는 총 16개의 피스를 사용하며, 킹 1개, 퀸 1개, 룩 2개, 비숍 2개, 나이트 2개, 폰 8개로 구성되어 있다.\n",
    "\n",
    "동혁이가 발견한 흰색 피스의 개수가 주어졌을 때, 몇 개를 더하거나 빼야 올바른 세트가 되는지 구하는 프로그램을 작성하시오.\n",
    "#### 입력\n",
    "첫째 줄에 동혁이가 찾은 흰색 킹, 퀸, 룩, 비숍, 나이트, 폰의 개수가 주어진다. 이 값은 0보다 크거나 같고 10보다 작거나 같은 정수이다.\n",
    "#### 출력\n",
    "첫째 줄에 입력에서 주어진 순서대로 몇 개의 피스를 더하거나 빼야 되는지를 출력한다. 만약 수가 양수라면 동혁이는 그 개수 만큼 피스를 더해야 하는 것이고, 음수라면 제거해야 하는 것이다.\n",
    "#### 예제:\n",
    " - 예제1 입력: 0 1 2 2 2 7\n",
    " - 예제1 출력: 1 0 0 0 0 1\n",
    " - 예제2 입력: 2 1 2 1 2 1\n",
    " - 예제2 출력: -1 0 0 1 0 7\n",
    "#### 정답"
   ]
  },
  {
   "cell_type": "code",
   "execution_count": 5,
   "id": "3d018809",
   "metadata": {},
   "outputs": [
    {
     "name": "stdout",
     "output_type": "stream",
     "text": [
      "0 1 2 2 2 7\n",
      "1 0 0 0 0 1\n"
     ]
    }
   ],
   "source": [
    "Chess = [1, 1, 2, 2, 2, 8]\n",
    "d_Chess = list(map(int, input().split()))\n",
    "for i in range(6):\n",
    "    Chess[i] -= d_Chess[i]\n",
    "\n",
    "print(*Chess)"
   ]
  },
  {
   "cell_type": "markdown",
   "id": "9ebeb7cb",
   "metadata": {},
   "source": [
    "### [단계 3] 2444번 별 찍기 - 7\n",
    "#### 문제\n",
    "예제를 보고 규칙을 유추한 뒤에 별을 찍어 보세요.\n",
    "#### 입력\n",
    "첫째 줄에 N(1 ≤ N ≤ 100)이 주어진다.\n",
    "#### 출력\n",
    "첫째 줄부터 2×N-1번째 줄까지 차례대로 별을 출력한다.\n",
    "#### 예제:\n",
    " - 예제 입력: 5\n",
    " - 예제 출력:\n",
    "#### 정답"
   ]
  },
  {
   "cell_type": "code",
   "execution_count": 38,
   "id": "65bb716e",
   "metadata": {},
   "outputs": [
    {
     "name": "stdout",
     "output_type": "stream",
     "text": [
      "5\n",
      "    *\n",
      "   ***\n",
      "  *****\n",
      " *******\n",
      "*********\n",
      " *******\n",
      "  *****\n",
      "   ***\n",
      "    *\n"
     ]
    }
   ],
   "source": [
    "N = int(input())\n",
    "for i in range(1, 2*N//2):\n",
    "    print(\" \"*(N-i) + \"*\"*(2*i-1))\n",
    "for j in range(1, 2*N//2+1):\n",
    "    print(\" \"*(j-1) + \"*\"*(2*N-(2*j-1)))"
   ]
  },
  {
   "cell_type": "markdown",
   "id": "550a809b",
   "metadata": {},
   "source": [
    "### [단계 4] 10988번 팰린드롬인지 확인하기\n",
    "#### 문제\n",
    "알파벳 소문자로만 이루어진 단어가 주어진다. 이때, 이 단어가 팰린드롬인지 아닌지 확인하는 프로그램을 작성하시오.\n",
    "\n",
    "팰린드롬이란 앞으로 읽을 때와 거꾸로 읽을 때 똑같은 단어를 말한다. \n",
    "\n",
    "level, noon은 팰린드롬이고, baekjoon, online, judge는 팰린드롬이 아니다.\n",
    "#### 입력\n",
    "첫째 줄에 단어가 주어진다. 단어의 길이는 1보다 크거나 같고, 100보다 작거나 같으며, 알파벳 소문자로만 이루어져 있다.\n",
    "#### 출력\n",
    "첫째 줄에 팰린드롬이면 1, 아니면 0을 출력한다.\n",
    "#### 예제:\n",
    " - 예제1 입력: level\n",
    " - 예제1 출력: 1\n",
    " - 예제2 입력: baekjoon\n",
    " - 예제2 출력: 0\n",
    "#### 정답\n",
    ": count 사용"
   ]
  },
  {
   "cell_type": "code",
   "execution_count": 1,
   "id": "5a78c4f9",
   "metadata": {},
   "outputs": [
    {
     "name": "stdout",
     "output_type": "stream",
     "text": [
      "level\n",
      "1\n"
     ]
    }
   ],
   "source": [
    "s = list(input())\n",
    "L = len(s)\n",
    "count = 0\n",
    "\n",
    "for i in range(L//2):\n",
    "    if s[i] == s[(L-1)-i]:\n",
    "        count += 1\n",
    "        \n",
    "if count == L//2:\n",
    "    print(\"1\")\n",
    "else:\n",
    "    print(\"0\")"
   ]
  },
  {
   "cell_type": "markdown",
   "id": "2d939918",
   "metadata": {},
   "source": [
    "### [단계 5] 1157번 단어 공부\n",
    "#### 문제\n",
    "알파벳 대소문자로 된 단어가 주어지면, 이 단어에서 가장 많이 사용된 알파벳이 무엇인지 알아내는 프로그램을 작성하시오. 단, 대문자와 소문자를 구분하지 않는다.\n",
    "#### 입력\n",
    "첫째 줄에 알파벳 대소문자로 이루어진 단어가 주어진다. 주어지는 단어의 길이는 1,000,000을 넘지 않는다.\n",
    "#### 출력\n",
    "첫째 줄에 이 단어에서 가장 많이 사용된 알파벳을 대문자로 출력한다. 단, 가장 많이 사용된 알파벳이 여러 개 존재하는 경우에는 ?를 출력한다.\n",
    "#### 예제:\n",
    " - 예제1 입력: Mississipi\n",
    " - 예제1 출력: ?\n",
    " - 예제2 입력: zZa\n",
    " - 예제2 출력: Z\n",
    " - 예제3 입력: z\n",
    " - 예제3 출력: Z\n",
    " - 예제4 입력: baaa\n",
    " - 예제4 출력: A\n",
    "#### 정답 1  "
   ]
  },
  {
   "cell_type": "code",
   "execution_count": 1,
   "id": "59c1193b",
   "metadata": {},
   "outputs": [
    {
     "name": "stdout",
     "output_type": "stream",
     "text": [
      "Mississipi\n",
      "?\n"
     ]
    }
   ],
   "source": [
    "s = input()\n",
    "result = [0 for i in range(26)]#결과 list\n",
    "count = 0\n",
    "\n",
    "for i in s:\n",
    "    for A in range(65,91): #대문자\n",
    "        if ord(i) == A:\n",
    "            result[A-65] += 1\n",
    "    for a in range(97,123): #소문자\n",
    "        if ord(i) == a:\n",
    "            result[a-97] += 1\n",
    "\n",
    "for r in range(26):\n",
    "  if result[r] == max(result) and result.index(max(result)) != r:\n",
    "    answer = \"?\"\n",
    "    break\n",
    "  else:\n",
    "    p = result.index(max(result)) + 65\n",
    "    answer = chr(p)\n",
    "  \n",
    "print(answer)"
   ]
  },
  {
   "cell_type": "code",
   "execution_count": null,
   "id": "38ecf826",
   "metadata": {},
   "outputs": [],
   "source": []
  }
 ],
 "metadata": {
  "kernelspec": {
   "display_name": "Python 3 (ipykernel)",
   "language": "python",
   "name": "python3"
  },
  "language_info": {
   "codemirror_mode": {
    "name": "ipython",
    "version": 3
   },
   "file_extension": ".py",
   "mimetype": "text/x-python",
   "name": "python",
   "nbconvert_exporter": "python",
   "pygments_lexer": "ipython3",
   "version": "3.9.13"
  }
 },
 "nbformat": 4,
 "nbformat_minor": 5
}
