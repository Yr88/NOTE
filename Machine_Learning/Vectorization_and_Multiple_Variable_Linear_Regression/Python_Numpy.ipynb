{
 "cells": [
  {
   "cell_type": "markdown",
   "id": "5e6d5f5f",
   "metadata": {},
   "source": [
    "## Vectorization과 Numpy 라이브러리"
   ]
  },
  {
   "cell_type": "code",
   "execution_count": 2,
   "id": "bc6b20e4",
   "metadata": {},
   "outputs": [],
   "source": [
    "import numpy as np    # it is an unofficial standard to use np for numpy(벡터를 만들 때 활용)\n",
    "import time #속도를 재기 위해 time 모듈을 가져옴"
   ]
  },
  {
   "cell_type": "markdown",
   "id": "6923545f",
   "metadata": {},
   "source": [
    "numpy의 기본 데이터 구조는 동일한 유형(dtype)의 요소를 포함하는 색인 가능한, n-차원 배열(array)\n",
    "- 차원(dimension): 배열의 인덱스 수  \n",
    "    ex) 1-D 배열, shape(n,): [0]부터 [n-1]까지 인덱스가 있는 n개 요소\n",
    "\n",
    "\n",
    "### 배열(array) 생성"
   ]
  },
  {
   "cell_type": "code",
   "execution_count": 8,
   "id": "8157c392",
   "metadata": {},
   "outputs": [
    {
     "name": "stdout",
     "output_type": "stream",
     "text": [
      "[0. 0. 0. 0.]\n"
     ]
    },
    {
     "data": {
      "text/plain": [
       "(4,)"
      ]
     },
     "execution_count": 8,
     "metadata": {},
     "output_type": "execute_result"
    }
   ],
   "source": [
    "# NumPy routines which allocate memory and fill arrays with value\n",
    "a = np.zeros(4)\n",
    "print(a)\n",
    "a.shape #tuple 형식으로 dimension을 표시(크기 반환)"
   ]
  },
  {
   "cell_type": "code",
   "execution_count": 9,
   "id": "920b0542",
   "metadata": {},
   "outputs": [
    {
     "data": {
      "text/plain": [
       "array([0., 0., 0., 0.])"
      ]
     },
     "execution_count": 9,
     "metadata": {},
     "output_type": "execute_result"
    }
   ],
   "source": [
    "a = np.zeros((4,)) #일반적으로 numpy에서 dimension을 지정할 때, tuple로 줌(일차원만 예외)\n",
    "a"
   ]
  },
  {
   "cell_type": "code",
   "execution_count": 17,
   "id": "8972972b",
   "metadata": {},
   "outputs": [
    {
     "name": "stdout",
     "output_type": "stream",
     "text": [
      "[0.16967262 0.76996995 0.56291145 0.53785221]\n",
      "(4,)\n",
      "[0.68043308 0.84167688 0.87635471 0.85401098]\n"
     ]
    }
   ],
   "source": [
    "#0과 1 사이의 랜덤한 숫자를 4개 가져오는 것\n",
    "a = np.random.random_sample(4) \n",
    "print(a)\n",
    "print(a.shape)\n",
    "\n",
    "b = np.random.rand(4) #균등분포의 값을 줌\n",
    "print(b)"
   ]
  },
  {
   "cell_type": "code",
   "execution_count": 16,
   "id": "50cc4143",
   "metadata": {},
   "outputs": [
    {
     "name": "stdout",
     "output_type": "stream",
     "text": [
      "[0 1 2 3]\n"
     ]
    },
    {
     "data": {
      "text/plain": [
       "dtype('int64')"
      ]
     },
     "execution_count": 16,
     "metadata": {},
     "output_type": "execute_result"
    }
   ],
   "source": [
    "# NumPy routines which allocate memory and fill arrays with value but do not accept shape as input argument\n",
    "a = np.arange(4); #arange => array range (python의 range와는 다름)\n",
    "print(a)\n",
    "a.dtype"
   ]
  },
  {
   "cell_type": "code",
   "execution_count": 20,
   "id": "568a5d6c",
   "metadata": {},
   "outputs": [
    {
     "name": "stdout",
     "output_type": "stream",
     "text": [
      "[5 4 3 2]\n",
      "[5. 4. 3. 2.]\n"
     ]
    }
   ],
   "source": [
    "a = np.array([5,4,3,2]) #list를 줌\n",
    "print(a)\n",
    "\n",
    "#하나라도 실수값을 주면 모든 요소가 다 실수로 바뀐다 => numpy 배열의 규칙\n",
    "b = np.array([5.,4,3,2])\n",
    "print(b)"
   ]
  },
  {
   "cell_type": "markdown",
   "id": "6d0217f3",
   "metadata": {},
   "source": [
    "### 요소 접근\n",
    ": 벡터의 요소는 인덱싱 및 슬라이싱을 통해 액세스  \n",
    ": Numpy는 0부터 인덱싱이 시작한다\n",
    "- **Indexing**: 배열 내의 위치를 기준으로 배열의 요소 참조(배열 안의 다양한 element에 하나씩 접근)"
   ]
  },
  {
   "cell_type": "code",
   "execution_count": 22,
   "id": "e62e243d",
   "metadata": {},
   "outputs": [
    {
     "name": "stdout",
     "output_type": "stream",
     "text": [
      "[0 1 2 3 4 5 6 7 8 9]\n",
      "(10,)\n"
     ]
    }
   ],
   "source": [
    "a = np.arange(10)\n",
    "print(a)\n",
    "print(a.shape)"
   ]
  },
  {
   "cell_type": "code",
   "execution_count": 23,
   "id": "f7813167",
   "metadata": {},
   "outputs": [
    {
     "data": {
      "text/plain": [
       "2"
      ]
     },
     "execution_count": 23,
     "metadata": {},
     "output_type": "execute_result"
    }
   ],
   "source": [
    "a[2]#인덱스 번호"
   ]
  },
  {
   "cell_type": "code",
   "execution_count": 24,
   "id": "98eaba01",
   "metadata": {},
   "outputs": [
    {
     "name": "stdout",
     "output_type": "stream",
     "text": [
      "9\n",
      "8\n"
     ]
    }
   ],
   "source": [
    "print(a[-1]) #음수는 맨 끝에서부터 끄집어냄\n",
    "print(a[-2])"
   ]
  },
  {
   "cell_type": "code",
   "execution_count": 25,
   "id": "448db655",
   "metadata": {},
   "outputs": [
    {
     "name": "stdout",
     "output_type": "stream",
     "text": [
      "The error message you'll see is:\n",
      "index 10 is out of bounds for axis 0 with size 10\n"
     ]
    }
   ],
   "source": [
    "#indexs must be within the range of the vector or they will produce and error\n",
    "try:\n",
    "    c = a[10]\n",
    "except Exception as e:\n",
    "    print(\"The error message you'll see is:\")\n",
    "    print(e)"
   ]
  },
  {
   "cell_type": "markdown",
   "id": "7ce0c2c1",
   "metadata": {},
   "source": [
    "- **Slicing**: 인덱스 기반으로 배열에서 요소의 하위집합(일정한 양, 일부분을 잘라낸 것)을 가져오는 것  \n",
    "    => (start:stop:step)"
   ]
  },
  {
   "cell_type": "code",
   "execution_count": 28,
   "id": "c60f8917",
   "metadata": {},
   "outputs": [
    {
     "name": "stdout",
     "output_type": "stream",
     "text": [
      "[0 1 2 3 4 5 6 7 8 9]\n",
      "[2 3 4 5 6]\n",
      "[2 4 6]\n"
     ]
    }
   ],
   "source": [
    "print(a)\n",
    "print(a[2:7:1]) #2번부터 7번 이전까지 , 1씩 증가\n",
    "print(a[2:7:2]) #2번부터 7번 이전까지, 2씩 증가"
   ]
  },
  {
   "cell_type": "code",
   "execution_count": 31,
   "id": "71bdf926",
   "metadata": {},
   "outputs": [
    {
     "name": "stdout",
     "output_type": "stream",
     "text": [
      "[3 4 5 6 7 8 9]\n",
      "[0 1 2]\n"
     ]
    }
   ],
   "source": [
    "print(a[3:]) #3부터 끝까지 모두 다 \n",
    "print(a[:3]) #맨 앞부터 3번 이전까지(맨 끝은 exclusive - 포함 X)"
   ]
  },
  {
   "cell_type": "code",
   "execution_count": 32,
   "id": "97f69068",
   "metadata": {},
   "outputs": [
    {
     "data": {
      "text/plain": [
       "array([0, 1, 2, 3, 4, 5, 6, 7, 8, 9])"
      ]
     },
     "execution_count": 32,
     "metadata": {},
     "output_type": "execute_result"
    }
   ],
   "source": [
    "a[:] #몽땅 다 달라는 것 => a를 달라는 것과 동일"
   ]
  },
  {
   "cell_type": "markdown",
   "id": "1e611742",
   "metadata": {},
   "source": [
    "### Single vector operations(단일 벡터 연산)\n",
    ": 배열 연산에서 기본적인 연산은 그 배열 element 하나하나에 따로따로 다 해주는 것"
   ]
  },
  {
   "cell_type": "code",
   "execution_count": 33,
   "id": "c1edf0c4",
   "metadata": {},
   "outputs": [
    {
     "data": {
      "text/plain": [
       "array([-1, -2, -3, -4])"
      ]
     },
     "execution_count": 33,
     "metadata": {},
     "output_type": "execute_result"
    }
   ],
   "source": [
    "a = np.array([1,2,3,4])\n",
    "b = -a #element에 '-'를 붙이는 연산\n",
    "b"
   ]
  },
  {
   "cell_type": "code",
   "execution_count": 34,
   "id": "a5552602",
   "metadata": {},
   "outputs": [
    {
     "data": {
      "text/plain": [
       "10"
      ]
     },
     "execution_count": 34,
     "metadata": {},
     "output_type": "execute_result"
    }
   ],
   "source": [
    "np.sum(a) #모든 요소를 다 더해주는 것"
   ]
  },
  {
   "cell_type": "code",
   "execution_count": 35,
   "id": "7ea5a541",
   "metadata": {},
   "outputs": [
    {
     "data": {
      "text/plain": [
       "2.5"
      ]
     },
     "execution_count": 35,
     "metadata": {},
     "output_type": "execute_result"
    }
   ],
   "source": [
    "np.mean(a) #평균 값 계산"
   ]
  },
  {
   "cell_type": "code",
   "execution_count": 36,
   "id": "e348d3f5",
   "metadata": {},
   "outputs": [
    {
     "data": {
      "text/plain": [
       "array([ 1,  4,  9, 16])"
      ]
     },
     "execution_count": 36,
     "metadata": {},
     "output_type": "execute_result"
    }
   ],
   "source": [
    "a ** 2 #모든 요소에 제곱연산을 해주는 것"
   ]
  },
  {
   "cell_type": "markdown",
   "id": "d77c20bb",
   "metadata": {},
   "source": [
    "### Numpy의 벡터끼리의 산술 연산\n",
    ": 이 연산자들은 요소별로 작동하여 각각의 element 하나씩하나씩 계산되는 연산 작용을 한다"
   ]
  },
  {
   "cell_type": "code",
   "execution_count": 40,
   "id": "6456892b",
   "metadata": {},
   "outputs": [
    {
     "name": "stdout",
     "output_type": "stream",
     "text": [
      "[0 0 6 8]\n"
     ]
    }
   ],
   "source": [
    "#더하기\n",
    "a = np.array([1,2,3,4])\n",
    "b = np.array([-1,-2,3,4])\n",
    "print(a+b)"
   ]
  },
  {
   "cell_type": "code",
   "execution_count": 41,
   "id": "b2192059",
   "metadata": {},
   "outputs": [
    {
     "name": "stdout",
     "output_type": "stream",
     "text": [
      "The error message you'll see is:\n",
      "operands could not be broadcast together with shapes (4,) (2,) \n"
     ]
    }
   ],
   "source": [
    "#벡터끼리 크기가 다르면 연산을 할 수 없음\n",
    "#try a mismatched vector operation\n",
    "c = np.array([1, 2])\n",
    "try:\n",
    "    d = a + c\n",
    "except Exception as e:\n",
    "    print(\"The error message you'll see is:\")\n",
    "    print(e)"
   ]
  },
  {
   "cell_type": "markdown",
   "id": "149e9dc9",
   "metadata": {},
   "source": [
    "### Numpy의 스칼라와 벡터끼리의 연산\n",
    ": 벡터는 스칼라 값으로 '크기 조정' 될 수 있다\n",
    "- 스칼라(scalar): 숫자 값"
   ]
  },
  {
   "cell_type": "code",
   "execution_count": 43,
   "id": "9deaf428",
   "metadata": {},
   "outputs": [
    {
     "name": "stdout",
     "output_type": "stream",
     "text": [
      "[ 5 10 15 20]\n",
      "[6 7 8 9]\n"
     ]
    }
   ],
   "source": [
    "print(a * 5)\n",
    "print(a + 5)"
   ]
  },
  {
   "cell_type": "markdown",
   "id": "05a9369f",
   "metadata": {},
   "source": [
    "### 벡터끼리의 dot product(내적)\n",
    ": 우리가 가장 신경써야하는 연산  \n",
    ": 선형 대수학(Linear Algebra)과 Numpy의 핵심  \n",
    ": 내적은 두 벡터의 값을 요소별로 곱한 다음 결과를 합산하여 스칼라 값을 반환한다  \n",
    ": 벡터 내적은 두 벡터의 차원이 동일해야 한다\n",
    "![내적](https://nbviewer.org/github/junji64/Machine-Learning-2023/blob/main/C1/week2/Optional%20Labs/images/C1_W2_Lab04_dot_notrans.gif)"
   ]
  },
  {
   "cell_type": "code",
   "execution_count": 44,
   "id": "0e1e2431",
   "metadata": {},
   "outputs": [],
   "source": [
    "def my_dot(a,b):\n",
    "    x = 0\n",
    "    for i in range(a.shape[0]): #0번째 index가 벡터의 길이\n",
    "        x = x + a[i]*b[i]\n",
    "    return x"
   ]
  },
  {
   "cell_type": "code",
   "execution_count": 45,
   "id": "da670d81",
   "metadata": {},
   "outputs": [
    {
     "name": "stdout",
     "output_type": "stream",
     "text": [
      "[1 2 3 4]\n",
      "[-1  4  3  2]\n"
     ]
    }
   ],
   "source": [
    "print(a)\n",
    "b = np.array([-1,4,3,2])\n",
    "print(b)"
   ]
  },
  {
   "cell_type": "code",
   "execution_count": 46,
   "id": "0efcc1d1",
   "metadata": {},
   "outputs": [
    {
     "data": {
      "text/plain": [
       "24"
      ]
     },
     "execution_count": 46,
     "metadata": {},
     "output_type": "execute_result"
    }
   ],
   "source": [
    "my_dot(a,b)"
   ]
  },
  {
   "cell_type": "code",
   "execution_count": 47,
   "id": "f4654410",
   "metadata": {},
   "outputs": [
    {
     "data": {
      "text/plain": [
       "24"
      ]
     },
     "execution_count": 47,
     "metadata": {},
     "output_type": "execute_result"
    }
   ],
   "source": [
    "#numpy에는 my_dot이라는 함수를 만들 필요 없이 자체적으로 함수가 있다\n",
    "np.dot(a,b)"
   ]
  },
  {
   "cell_type": "code",
   "execution_count": 48,
   "id": "e3a80ff6",
   "metadata": {},
   "outputs": [
    {
     "data": {
      "text/plain": [
       "24"
      ]
     },
     "execution_count": 48,
     "metadata": {},
     "output_type": "execute_result"
    }
   ],
   "source": [
    "#벡터 두 개끼리는 교환법칙 성립\n",
    "np.dot(b,a)"
   ]
  },
  {
   "cell_type": "markdown",
   "id": "b3aa4672",
   "metadata": {},
   "source": [
    "### Speed Checking: \n",
    ": 왜 dot 함수를 만들었을까?의 답"
   ]
  },
  {
   "cell_type": "code",
   "execution_count": 49,
   "id": "332bef50",
   "metadata": {},
   "outputs": [],
   "source": [
    "np.random.seed(1) #항상 일관성 있는 랜덤 넘버가 나옴\n",
    "a = np.random.rand(10000000)\n",
    "b = np.random.rand(10000000)"
   ]
  },
  {
   "cell_type": "code",
   "execution_count": 55,
   "id": "9a8552b4",
   "metadata": {},
   "outputs": [
    {
     "name": "stdout",
     "output_type": "stream",
     "text": [
      "np.dot(a, b) =  2501072.5817\n",
      "Vectorized version duration: 8.2138 ms \n"
     ]
    }
   ],
   "source": [
    "#numpy의 dot 함수 활용\n",
    "tic = time.time() #현재 시간 저장 =>10의 -6승 sec(100만분의 1초)\n",
    "c = np.dot(a,b) #천만개의 덧셈과 곱셈을 함\n",
    "toc = time.time()\n",
    "print(f\"np.dot(a, b) =  {c:.4f}\")\n",
    "print(f\"Vectorized version duration: {1000*(toc-tic):.4f} ms \")"
   ]
  },
  {
   "cell_type": "code",
   "execution_count": 58,
   "id": "fad7ef38",
   "metadata": {},
   "outputs": [
    {
     "name": "stdout",
     "output_type": "stream",
     "text": [
      "my_dot(a, b) =  2501072.5817\n",
      "loop version duration: 2700.5079 ms \n"
     ]
    }
   ],
   "source": [
    "#python에서 for loop로 만든 my_dot 함수 활용\n",
    "tic = time.time()  # capture start time\n",
    "c = my_dot(a,b)\n",
    "toc = time.time()  # capture end time\n",
    "\n",
    "print(f\"my_dot(a, b) =  {c:.4f}\")\n",
    "print(f\"loop version duration: {1000*(toc-tic):.4f} ms \")\n",
    "\n",
    "del(a);del(b)  #remove these big arrays from memory"
   ]
  },
  {
   "cell_type": "markdown",
   "id": "6e83f3f6",
   "metadata": {},
   "source": [
    ": Numpy가 GPU나 최신 CPU에 있는 SIMD(Single Instruction, Multiple Data) 파이프 라인을 구현하여 기본 하드웨어에서 사용 가능한 데이터 병렬성을 더 잘 활용하여 여러 작업을 병렬로 실행하기 때문에 벡터화를 통해 속도가 크게 향상됨  \n",
    ": 이는 데이터 세트가 매우 큰 경우가 많은 기계 학습에서 매우 중요"
   ]
  },
  {
   "cell_type": "code",
   "execution_count": 60,
   "id": "79925964",
   "metadata": {},
   "outputs": [],
   "source": [
    "X = np.array([[1],[2],[3],[4]])#훈련 자료: X - numpy array 형태 => 각각의 행이 하나하나의 독립적인 훈련자료를 넣어 2차원인 경우가 많음\n",
    "w = np.array([2]) #하나의 element니까 1차원\n",
    "c = np.dot(X[1], w) #사이즈가 안 맞으니까 X의 요소 하나와 w를 내적 시켜야 한다"
   ]
  },
  {
   "cell_type": "code",
   "execution_count": 61,
   "id": "43b33349",
   "metadata": {},
   "outputs": [
    {
     "data": {
      "text/plain": [
       "(4, 1)"
      ]
     },
     "execution_count": 61,
     "metadata": {},
     "output_type": "execute_result"
    }
   ],
   "source": [
    "X.shape #요소 4개에 각각의 element 1개"
   ]
  },
  {
   "cell_type": "code",
   "execution_count": 62,
   "id": "1632c161",
   "metadata": {},
   "outputs": [
    {
     "data": {
      "text/plain": [
       "(1,)"
      ]
     },
     "execution_count": 62,
     "metadata": {},
     "output_type": "execute_result"
    }
   ],
   "source": [
    "w.shape"
   ]
  },
  {
   "cell_type": "code",
   "execution_count": 63,
   "id": "211a9fbf",
   "metadata": {},
   "outputs": [
    {
     "data": {
      "text/plain": [
       "()"
      ]
     },
     "execution_count": 63,
     "metadata": {},
     "output_type": "execute_result"
    }
   ],
   "source": [
    "c.shape #숫자 하나 => array가 아닌 스칼라 => 0차원 벡터"
   ]
  },
  {
   "cell_type": "markdown",
   "id": "392ae59d",
   "metadata": {},
   "source": [
    "### 행렬(Matrix)\n",
    ": 행렬은 2차원 배열(행과 열로 구성)\n",
    "- m: 행 수\n",
    "- n: 열 수"
   ]
  },
  {
   "cell_type": "code",
   "execution_count": 66,
   "id": "a40f458c",
   "metadata": {},
   "outputs": [
    {
     "name": "stdout",
     "output_type": "stream",
     "text": [
      "[[0. 0. 0. 0. 0.]]\n",
      "(1, 5)\n"
     ]
    }
   ],
   "source": [
    "a = np.zeros((1,5)) #tuple로 주면 행렬이 만들어짐\n",
    "print(a)\n",
    "print(a.shape)"
   ]
  },
  {
   "cell_type": "code",
   "execution_count": 67,
   "id": "c876f187",
   "metadata": {},
   "outputs": [
    {
     "name": "stdout",
     "output_type": "stream",
     "text": [
      "[[0.]\n",
      " [0.]]\n",
      "(2, 1)\n"
     ]
    }
   ],
   "source": [
    "a = np.zeros((2,1))\n",
    "print(a)\n",
    "print(a.shape)"
   ]
  },
  {
   "cell_type": "code",
   "execution_count": 85,
   "id": "bda5c5a8",
   "metadata": {},
   "outputs": [
    {
     "name": "stdout",
     "output_type": "stream",
     "text": [
      "[[0.77390955]]\n",
      "(1, 1)\n"
     ]
    }
   ],
   "source": [
    "#random 벡터\n",
    "a = np.random.random_sample((1,1)) #1x1 짜리 리턴\n",
    "print(a) #대괄호 안에 들어가 있으므로 array인데 그냥 길이가 짧은 것\n",
    "print(a.shape) "
   ]
  },
  {
   "cell_type": "code",
   "execution_count": 86,
   "id": "46e5244a",
   "metadata": {},
   "outputs": [
    {
     "name": "stdout",
     "output_type": "stream",
     "text": [
      "[[5]\n",
      " [4]\n",
      " [3]]\n",
      "(3, 1)\n"
     ]
    }
   ],
   "source": [
    "#데이터 수동 타이핑\n",
    "a = np.array([[5], [4], [3]]); #3x1 (행x열)짜리\n",
    "print(a)\n",
    "print(a.shape)"
   ]
  },
  {
   "cell_type": "code",
   "execution_count": 87,
   "id": "cc53cbb8",
   "metadata": {},
   "outputs": [
    {
     "name": "stdout",
     "output_type": "stream",
     "text": [
      "[[0 1]\n",
      " [2 3]\n",
      " [4 5]]\n",
      "(3, 2)\n"
     ]
    }
   ],
   "source": [
    "#-1은 몰라라는 의미(*과 같다고 생각하면 됨) => 보류 / 스스로 알아서 계산하는 것(-1 인수는 배열 크기와 열 수에 따라 행 수를 계산하도록 루틴에 지시함)\n",
    "a = np.arange(6).reshape(-1,2) #즉, 열의 숫자만 결정해주고 행 계산은 알아서 하라고 하는 문법\n",
    "print(a)\n",
    "print(a.shape)"
   ]
  },
  {
   "cell_type": "code",
   "execution_count": 88,
   "id": "b59c0d75",
   "metadata": {},
   "outputs": [
    {
     "name": "stdout",
     "output_type": "stream",
     "text": [
      "[[0 1 2]\n",
      " [3 4 5]]\n",
      "(2, 3)\n"
     ]
    }
   ],
   "source": [
    "a = np.arange(6).reshape(-1,3)\n",
    "print(a)\n",
    "print(a.shape)"
   ]
  },
  {
   "cell_type": "code",
   "execution_count": 89,
   "id": "b60cfab9",
   "metadata": {},
   "outputs": [
    {
     "name": "stdout",
     "output_type": "stream",
     "text": [
      "[[0 1]\n",
      " [2 3]\n",
      " [4 5]]\n",
      "(3, 2)\n"
     ]
    }
   ],
   "source": [
    "a = np.arange(6).reshape(3,2) #이렇게도 만들 수 있음\n",
    "print(a)\n",
    "print(a.shape)"
   ]
  },
  {
   "cell_type": "markdown",
   "id": "8c16ae43",
   "metadata": {},
   "source": [
    "### Matrices Indexing & Slicing\n",
    ": 두 개의 인덱스는 [행, 열]을 설명"
   ]
  },
  {
   "cell_type": "code",
   "execution_count": 75,
   "id": "81961269",
   "metadata": {},
   "outputs": [
    {
     "name": "stdout",
     "output_type": "stream",
     "text": [
      "[[ 0  1  2  3  4  5  6  7  8  9]\n",
      " [10 11 12 13 14 15 16 17 18 19]]\n",
      "(2, 10)\n"
     ]
    }
   ],
   "source": [
    "a = np.arange(20).reshape(-1,10) #2x10\n",
    "print(a)\n",
    "print(a.shape)"
   ]
  },
  {
   "cell_type": "code",
   "execution_count": 90,
   "id": "bab7e5bd",
   "metadata": {},
   "outputs": [
    {
     "data": {
      "text/plain": [
       "array([], dtype=int64)"
      ]
     },
     "execution_count": 90,
     "metadata": {},
     "output_type": "execute_result"
    }
   ],
   "source": [
    "a[0,2:7:1] #0번째 행의 2에서 7번째 전까지의 값을 1씩 증가로 달라는 뜻(start:stop:step)"
   ]
  },
  {
   "cell_type": "code",
   "execution_count": 91,
   "id": "ed9349a3",
   "metadata": {},
   "outputs": [
    {
     "data": {
      "text/plain": [
       "array([[0, 1],\n",
       "       [2, 3],\n",
       "       [4, 5]])"
      ]
     },
     "execution_count": 91,
     "metadata": {},
     "output_type": "execute_result"
    }
   ],
   "source": [
    "a[:,:] #모두 다 달라는 의미"
   ]
  },
  {
   "cell_type": "code",
   "execution_count": 92,
   "id": "0e296a30",
   "metadata": {},
   "outputs": [
    {
     "data": {
      "text/plain": [
       "array([[2, 3],\n",
       "       [4, 5]])"
      ]
     },
     "execution_count": 92,
     "metadata": {},
     "output_type": "execute_result"
    }
   ],
   "source": [
    "a[1:,:] #첫 번째 행의 모든 열 가져오기"
   ]
  },
  {
   "cell_type": "code",
   "execution_count": 93,
   "id": "541a0ec7",
   "metadata": {},
   "outputs": [
    {
     "data": {
      "text/plain": [
       "array([[0],\n",
       "       [2],\n",
       "       [4]])"
      ]
     },
     "execution_count": 93,
     "metadata": {},
     "output_type": "execute_result"
    }
   ],
   "source": [
    "a[:,:1] #모든 행의 첫번째 열만 가져오기"
   ]
  }
 ],
 "metadata": {
  "kernelspec": {
   "display_name": "Python 3 (ipykernel)",
   "language": "python",
   "name": "python3"
  },
  "language_info": {
   "codemirror_mode": {
    "name": "ipython",
    "version": 3
   },
   "file_extension": ".py",
   "mimetype": "text/x-python",
   "name": "python",
   "nbconvert_exporter": "python",
   "pygments_lexer": "ipython3",
   "version": "3.9.13"
  }
 },
 "nbformat": 4,
 "nbformat_minor": 5
}
