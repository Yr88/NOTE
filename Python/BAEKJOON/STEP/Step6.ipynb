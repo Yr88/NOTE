{
 "cells": [
  {
   "cell_type": "markdown",
   "id": "c5d946a1",
   "metadata": {},
   "source": [
    "# 심화 1\n",
    "\n",
    "### [단계 1] 25083번 새싹\n",
    "#### 문제\n",
    "아래 예제와 같이 새싹을 출력하시오.\n",
    "#### 입력\n",
    "입력은 없다.\n",
    "#### 출력\n",
    "새싹을 출력한다.\n",
    "#### 예제:\n",
    " - 예제 입력:\n",
    " - 예제 출력: (새싹 그림)\n",
    "#### 정답"
   ]
  },
  {
   "cell_type": "code",
   "execution_count": 2,
   "id": "1a75dbd2",
   "metadata": {},
   "outputs": [
    {
     "name": "stdout",
     "output_type": "stream",
     "text": [
      "         ,r'\"7\n",
      "r`-_   ,'  ,/\n",
      " \\. \". L_r'\n",
      "   `~\\/\n",
      "      |\n",
      "      |\n",
      "\n"
     ]
    }
   ],
   "source": [
    "#제출할 때 Enter, tab 등을 주의해야함\n",
    "print(\n",
    "'''         ,r'\"7\n",
    "r`-_   ,'  ,/\n",
    " \\. \". L_r'\n",
    "   `~\\/\n",
    "      |\n",
    "      |\n",
    "''')"
   ]
  },
  {
   "cell_type": "code",
   "execution_count": null,
   "id": "9b80863e",
   "metadata": {},
   "outputs": [],
   "source": []
  }
 ],
 "metadata": {
  "kernelspec": {
   "display_name": "Python 3 (ipykernel)",
   "language": "python",
   "name": "python3"
  },
  "language_info": {
   "codemirror_mode": {
    "name": "ipython",
    "version": 3
   },
   "file_extension": ".py",
   "mimetype": "text/x-python",
   "name": "python",
   "nbconvert_exporter": "python",
   "pygments_lexer": "ipython3",
   "version": "3.9.13"
  }
 },
 "nbformat": 4,
 "nbformat_minor": 5
}
