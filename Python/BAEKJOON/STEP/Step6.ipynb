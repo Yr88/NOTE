{
 "cells": [
  {
   "cell_type": "markdown",
   "id": "c5d946a1",
   "metadata": {},
   "source": [
    "# 심화 1\n",
    "\n",
    "### [단계 1] 25083번 새싹\n",
    "#### 문제\n",
    "아래 예제와 같이 새싹을 출력하시오.\n",
    "#### 입력\n",
    "입력은 없다.\n",
    "#### 출력\n",
    "새싹을 출력한다.\n",
    "#### 예제:\n",
    " - 예제 입력:\n",
    " - 예제 출력: (새싹 그림)\n",
    "#### 정답"
   ]
  },
  {
   "cell_type": "code",
   "execution_count": 2,
   "id": "1a75dbd2",
   "metadata": {},
   "outputs": [
    {
     "name": "stdout",
     "output_type": "stream",
     "text": [
      "         ,r'\"7\n",
      "r`-_   ,'  ,/\n",
      " \\. \". L_r'\n",
      "   `~\\/\n",
      "      |\n",
      "      |\n",
      "\n"
     ]
    }
   ],
   "source": [
    "#제출할 때 Enter, tab 등을 주의해야함\n",
    "print(\n",
    "'''         ,r'\"7\n",
    "r`-_   ,'  ,/\n",
    " \\. \". L_r'\n",
    "   `~\\/\n",
    "      |\n",
    "      |\n",
    "''')"
   ]
  },
  {
   "cell_type": "markdown",
   "id": "69daf57c",
   "metadata": {},
   "source": [
    "### [단계 2] 3003번 킹, 퀸, 룩, 비숍, 나이트, 폰\n",
    "#### 문제\n",
    "동혁이는 오래된 창고를 뒤지다가 낡은 체스판과 피스를 발견했다.\n",
    "\n",
    "체스판의 먼지를 털어내고 걸레로 닦으니 그럭저럭 쓸만한 체스판이 되었다. 하지만, 검정색 피스는 모두 있었으나, 흰색 피스는 개수가 올바르지 않았다.\n",
    "\n",
    "체스는 총 16개의 피스를 사용하며, 킹 1개, 퀸 1개, 룩 2개, 비숍 2개, 나이트 2개, 폰 8개로 구성되어 있다.\n",
    "\n",
    "동혁이가 발견한 흰색 피스의 개수가 주어졌을 때, 몇 개를 더하거나 빼야 올바른 세트가 되는지 구하는 프로그램을 작성하시오.\n",
    "#### 입력\n",
    "첫째 줄에 동혁이가 찾은 흰색 킹, 퀸, 룩, 비숍, 나이트, 폰의 개수가 주어진다. 이 값은 0보다 크거나 같고 10보다 작거나 같은 정수이다.\n",
    "#### 출력\n",
    "첫째 줄에 입력에서 주어진 순서대로 몇 개의 피스를 더하거나 빼야 되는지를 출력한다. 만약 수가 양수라면 동혁이는 그 개수 만큼 피스를 더해야 하는 것이고, 음수라면 제거해야 하는 것이다.\n",
    "#### 예제:\n",
    " - 예제1 입력: 0 1 2 2 2 7\n",
    " - 예제1 출력: 1 0 0 0 0 1\n",
    " - 예제2 입력: 2 1 2 1 2 1\n",
    " - 예제2 출력: -1 0 0 1 0 7\n",
    "#### 정답"
   ]
  },
  {
   "cell_type": "code",
   "execution_count": 5,
   "id": "3d018809",
   "metadata": {},
   "outputs": [
    {
     "name": "stdout",
     "output_type": "stream",
     "text": [
      "0 1 2 2 2 7\n",
      "1 0 0 0 0 1\n"
     ]
    }
   ],
   "source": [
    "Chess = [1, 1, 2, 2, 2, 8]\n",
    "d_Chess = list(map(int, input().split()))\n",
    "for i in range(6):\n",
    "    Chess[i] -= d_Chess[i]\n",
    "\n",
    "print(*Chess)"
   ]
  },
  {
   "cell_type": "code",
   "execution_count": null,
   "id": "75738b54",
   "metadata": {},
   "outputs": [],
   "source": []
  }
 ],
 "metadata": {
  "kernelspec": {
   "display_name": "Python 3 (ipykernel)",
   "language": "python",
   "name": "python3"
  },
  "language_info": {
   "codemirror_mode": {
    "name": "ipython",
    "version": 3
   },
   "file_extension": ".py",
   "mimetype": "text/x-python",
   "name": "python",
   "nbconvert_exporter": "python",
   "pygments_lexer": "ipython3",
   "version": "3.9.13"
  }
 },
 "nbformat": 4,
 "nbformat_minor": 5
}
