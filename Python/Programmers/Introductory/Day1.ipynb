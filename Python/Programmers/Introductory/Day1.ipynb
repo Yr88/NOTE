{
 "cells": [
  {
   "cell_type": "markdown",
   "id": "30e395f7",
   "metadata": {},
   "source": [
    "# Day 1 사칙연산\n",
    "\n",
    "### 1. 두 수의 합\n",
    "#### 문제 설명:\n",
    "정수 num1과 num2가 주어질 때, num1과 num2의 합을 return하도록 soltuion 함수를 완성해주세요.\n",
    "#### 제한 사항:\n",
    "- -50,000 ≤ num1 ≤ 50,000\n",
    "- -50,000 ≤ num2 ≤ 50,000\n",
    "#### 입출력 예:\n",
    "    | num1 | num2 | result |\n",
    "    | --- | --- | --- |\n",
    "    | 2 | 3 | 5 |\n",
    "    | 100 | 2 | 102 |\n",
    "    \n",
    "1. `num1`이 2이고 `num2`가 3이므로 2 + 3 = 5를 return합니다.\n",
    "    \n",
    "2. `num1`이 100이고 `num2`가 2이므로 100 + 2 = 102를 return합니다\n",
    "\n",
    "#### solution.py"
   ]
  },
  {
   "cell_type": "code",
   "execution_count": 1,
   "id": "ea6640ba",
   "metadata": {},
   "outputs": [],
   "source": [
    "def solution(num1, num2):\n",
    "    answer = num1+num2\n",
    "    return answer"
   ]
  },
  {
   "cell_type": "markdown",
   "id": "f289a201",
   "metadata": {},
   "source": [
    "### 2. 두 수의 차\n",
    "#### 문제 설명:\n",
    "정수 num1과 num2가 주어질 때, num1에서 num2를 뺀 값을 return하도록 soltuion 함수를 완성해주세요.\n",
    "#### 제한 사항:\n",
    "- -50,000 ≤ num1 ≤ 50,000\n",
    "- -50,000 ≤ num2 ≤ 50,000\n",
    "#### 입출력 예:\n",
    "    | num1 | num2 | result |\n",
    "    | --- | --- | --- |\n",
    "    | 2 | 3 | -1 |\n",
    "    | 100 | 2 | 98 |\n",
    "    \n",
    "1. `num1`이 2이고 `num2`가 3이므로 2 - 3 = -1을 return합니다.\n",
    "\n",
    "2. `num1`이 100이고 `num2`가 2이므로 100 - 2 = 98을 return합니다.\n",
    "\n",
    "#### solution.py"
   ]
  },
  {
   "cell_type": "code",
   "execution_count": 2,
   "id": "ef9c3f0b",
   "metadata": {},
   "outputs": [],
   "source": [
    "def solution(num1, num2):\n",
    "    answer = num1-num2\n",
    "    return answer"
   ]
  },
  {
   "cell_type": "markdown",
   "id": "ea1199bd",
   "metadata": {},
   "source": [
    "### 3. 두 수의 곱\n",
    "#### 문제 설명:\n",
    "정수 num1과 num2가 배개변수 주어집니다. num1과 num2를 곱한 값을 return하도록 soltuion 함수를 완성해주세요.\n",
    "#### 제한 사항:\n",
    "- 0 ≤ num1 ≤ 100\n",
    "- 0 ≤ num2 ≤ 100\n",
    "#### 입출력 예:\n",
    "    | num1 | num2 | result |\n",
    "    | --- | --- | --- |\n",
    "    | 3 | 4 | 12 |\n",
    "    | 27 | 19 | 513 |\n",
    "    \n",
    "1. `num1`이 3, `num2`가 4이므로 3 * 4 = 12를 return합니다.\n",
    "\n",
    "2. `num1`이 27, `num2`가 19이므로 27 * 19 = 513을 return합니다.\n",
    "\n",
    "#### solution.py"
   ]
  },
  {
   "cell_type": "code",
   "execution_count": 3,
   "id": "db482502",
   "metadata": {},
   "outputs": [],
   "source": [
    "def solution(num1, num2):\n",
    "    answer = num1*num2\n",
    "    return answer"
   ]
  },
  {
   "cell_type": "markdown",
   "id": "edab6717",
   "metadata": {},
   "source": [
    "### 4. 몫 구하기\n",
    "#### 문제 설명:\n",
    "정수 num1과 num2가 배개변수 주어질 때, num1을 num2로 나눈 몫을 return 하도록 solution 함수를 완성해주세요.\n",
    "#### 제한 사항:\n",
    "- 0 ≤ num1 ≤ 100\n",
    "- 0 ≤ num2 ≤ 100\n",
    "#### 입출력 예:\n",
    "    | num1 | num2 | result |\n",
    "    | --- | --- | --- |\n",
    "    | 10 | 5 | 2 |\n",
    "    | 7 | 2 | 3 |\n",
    "    \n",
    "1. `num1`이 10, `num2`가 5이므로 10을 5로 나눈 몫 2를 return 합니다.\n",
    "\n",
    "2. `num1`이 7, `num2`가 2이므로 7을 2로 나눈 몫 3을 return 합니다.\n",
    "\n",
    "#### solution.py"
   ]
  },
  {
   "cell_type": "code",
   "execution_count": 4,
   "id": "0663a934",
   "metadata": {},
   "outputs": [],
   "source": [
    "def solution(num1, num2):\n",
    "    answer = int(num1/num2) # or num1//num2\n",
    "    return answer"
   ]
  }
 ],
 "metadata": {
  "kernelspec": {
   "display_name": "Python 3 (ipykernel)",
   "language": "python",
   "name": "python3"
  },
  "language_info": {
   "codemirror_mode": {
    "name": "ipython",
    "version": 3
   },
   "file_extension": ".py",
   "mimetype": "text/x-python",
   "name": "python",
   "nbconvert_exporter": "python",
   "pygments_lexer": "ipython3",
   "version": "3.9.13"
  }
 },
 "nbformat": 4,
 "nbformat_minor": 5
}
