{
 "cells": [
  {
   "cell_type": "markdown",
   "id": "d463c040",
   "metadata": {},
   "source": [
    "# 문자열\n",
    "\n",
    "### [단계 1] 27866번 문자와 문자열\n",
    "#### 문제\n",
    "단어 $S$와 정수 $i$가 주어졌을 때, $S$의 $i$번째 글자를 출력하는 프로그램을 작성하시오.\n",
    "#### 입력\n",
    "첫째 줄에 영어 소문자와 대문자로만 이루어진 단어 $S$가 주어진다. 단어의 길이는 최대 $1\\,000$이다.\n",
    "\n",
    "둘째 줄에 정수 $i$가 주어진다. ($1 \\le i \\le \\left|S\\right|$)\n",
    "#### 출력\n",
    "$S$의 $i$번째 글자를 출력한다.\n",
    "#### 예제:\n",
    " - 예제1 입력:  \n",
    "        Sprout\n",
    "        3\n",
    " - 예제1 출력: r\n",
    " - 예제2 입력:  \n",
    "        shiftpsh\n",
    "        6\n",
    " - 예제2 출력: p\n",
    " - 예제3 입력:\n",
    "        Baekjoon\n",
    "        4\n",
    " - 예제3 출력: k\n",
    "#### 정답"
   ]
  },
  {
   "cell_type": "code",
   "execution_count": 2,
   "id": "096ba3ed",
   "metadata": {},
   "outputs": [
    {
     "name": "stdout",
     "output_type": "stream",
     "text": [
      "Sprout\n",
      "3\n",
      "r\n"
     ]
    }
   ],
   "source": [
    "s = str(input())\n",
    "n = int(input())\n",
    "print(s[n-1])"
   ]
  },
  {
   "cell_type": "markdown",
   "id": "349d7178",
   "metadata": {},
   "source": [
    "### [단계 2] 2743번 단어 길이 재기\n",
    "#### 문제\n",
    "알파벳으로만 이루어진 단어를 입력받아, 그 길이를 출력하는 프로그램을 작성하시오.\n",
    "#### 입력\n",
    "첫째 줄에 영어 소문자와 대문자로만 이루어진 단어가 주어진다. 단어의 길이는 최대 100이다.\n",
    "#### 출력\n",
    "첫째 줄에 입력으로 주어진 단어의 길이를 출력한다.\n",
    "#### 예제:\n",
    " - 예제 입력: pulljima\n",
    " - 예제 출력: 8\n",
    "#### 정답"
   ]
  },
  {
   "cell_type": "code",
   "execution_count": 3,
   "id": "8b808910",
   "metadata": {},
   "outputs": [
    {
     "name": "stdout",
     "output_type": "stream",
     "text": [
      "pulljima\n",
      "8\n"
     ]
    }
   ],
   "source": [
    "s = str(input())\n",
    "print(len(s))"
   ]
  },
  {
   "cell_type": "markdown",
   "id": "9f0dc342",
   "metadata": {},
   "source": [
    "### [단계 3] 9086번 문자열\n",
    "#### 문제\n",
    "문자열을 입력으로 주면 문자열의 첫 글자와 마지막 글자를 출력하는 프로그램을 작성하시오.\n",
    "#### 입력\n",
    "입력의 첫 줄에는 테스트 케이스의 개수 T(1 ≤ T ≤ 10)가 주어진다. 각 테스트 케이스는 한 줄에 하나의 문자열이 주어진다. 문자열은 알파벳 A~Z 대문자로 이루어지며 알파벳 사이에 공백은 없으며 문자열의 길이는 1000보다 작다.\n",
    "#### 출력\n",
    "각 테스트 케이스에 대해서 주어진 문자열의 첫 글자와 마지막 글자를 연속하여 출력한다.\n",
    "#### 예제:\n",
    " - 예제 입력:  \n",
    "         3  \n",
    "         ACDKJFOWIEGHE\n",
    " - 예제 출력:  \n",
    "        AE  \n",
    "        00  \n",
    "        AB\n",
    "#### 정답"
   ]
  },
  {
   "cell_type": "code",
   "execution_count": 4,
   "id": "3d09e17c",
   "metadata": {},
   "outputs": [
    {
     "name": "stdout",
     "output_type": "stream",
     "text": [
      "3\n",
      "ACDKJFOWIEGHE\n",
      "AE\n",
      "0\n",
      "00\n",
      "AB\n",
      "AB\n"
     ]
    }
   ],
   "source": [
    "N = int(input())\n",
    "for n in range (N):\n",
    "  s = input()\n",
    "  print(s[0]+s[-1])"
   ]
  },
  {
   "cell_type": "markdown",
   "id": "65b9162d",
   "metadata": {},
   "source": [
    "### [단계 4] 11654번 아스키 코드\n",
    "#### 문제\n",
    "알파벳 소문자, 대문자, 숫자 0-9중 하나가 주어졌을 때, 주어진 글자의 아스키 코드값을 출력하는 프로그램을 작성하시오.\n",
    "#### 입력\n",
    "알파벳 소문자, 대문자, 숫자 0-9 중 하나가 첫째 줄에 주어진다.\n",
    "#### 출력\n",
    "입력으로 주어진 글자의 아스키 코드 값을 출력한다.\n",
    "#### 예제:\n",
    " - 예제1 입력: A\n",
    " - 예제1 출력: 65\n",
    " - 예제2 입력: C\n",
    " - 예제2 출력: 67\n",
    " - 예제3 입력: 0\n",
    " - 예제3 출력: 48\n",
    " - 예제4 입력: 9\n",
    " - 예제4 출력: 57\n",
    " - 예제5 입력: a\n",
    " - 예제5 출력: 97\n",
    " - 예제6 입력: z\n",
    " - 예제6 출력: 122\n",
    "#### 정답"
   ]
  },
  {
   "cell_type": "code",
   "execution_count": 5,
   "id": "0051b8a4",
   "metadata": {},
   "outputs": [
    {
     "name": "stdout",
     "output_type": "stream",
     "text": [
      "A\n",
      "65\n"
     ]
    }
   ],
   "source": [
    "a = input()\n",
    "print(ord(a))"
   ]
  },
  {
   "cell_type": "markdown",
   "id": "479e1f79",
   "metadata": {},
   "source": [
    "### [단계 5] 11720번 숫자의 합\n",
    "#### 문제\n",
    "N개의 숫자가 공백 없이 쓰여있다. 이 숫자를 모두 합해서 출력하는 프로그램을 작성하시오.\n",
    "#### 입력\n",
    "첫째 줄에 숫자의 개수 N (1 ≤ N ≤ 100)이 주어진다. 둘째 줄에 숫자 N개가 공백없이 주어진다.\n",
    "#### 출력\n",
    "입력으로 주어진 숫자 N개의 합을 출력한다.\n",
    "#### 예제:\n",
    " - 예제1 입력:  \n",
    "         1  \n",
    "         1\n",
    " - 예제1 출력: 1\n",
    " - 예제2 입력:  \n",
    "         5  \n",
    "         54321\n",
    " - 예제2 출력: 15\n",
    " - 예제3 입력:  \n",
    "         25  \n",
    "         7000000000000000000000000\n",
    " - 예제3 출력: 7\n",
    " - 예제4 입력:  \n",
    "         11  \n",
    "         10987654321\n",
    " - 예제4 출력: 46\n",
    "#### 정답"
   ]
  },
  {
   "cell_type": "code",
   "execution_count": 6,
   "id": "b196268c",
   "metadata": {},
   "outputs": [
    {
     "name": "stdout",
     "output_type": "stream",
     "text": [
      "1\n",
      "1\n",
      "1\n"
     ]
    }
   ],
   "source": [
    "sum = 0\n",
    "N = int(input())\n",
    "s = input()\n",
    "for i in s:\n",
    "  sum+=int(i)\n",
    "print(sum)"
   ]
  },
  {
   "cell_type": "markdown",
   "id": "7216a36d",
   "metadata": {},
   "source": [
    "### [단계 6] 110809번 알파벳 찾기\n",
    "#### 문제\n",
    "알파벳 소문자로만 이루어진 단어 S가 주어진다. 각각의 알파벳에 대해서, 단어에 포함되어 있는 경우에는 처음 등장하는 위치를, 포함되어 있지 않은 경우에는 -1을 출력하는 프로그램을 작성하시오.\n",
    "#### 입력\n",
    "첫째 줄에 단어 S가 주어진다. 단어의 길이는 100을 넘지 않으며, 알파벳 소문자로만 이루어져 있다.\n",
    "#### 출력\n",
    "각각의 알파벳에 대해서, a가 처음 등장하는 위치, b가 처음 등장하는 위치, ... z가 처음 등장하는 위치를 공백으로 구분해서 출력한다.\n",
    "\n",
    "만약, 어떤 알파벳이 단어에 포함되어 있지 않다면 -1을 출력한다. 단어의 첫 번째 글자는 0번째 위치이고, 두 번째 글자는 1번째 위치이다.\n",
    "#### 예제:\n",
    " - 예제 입력: baekjoon\n",
    " - 예제 출력: 1 0 -1 -1 2 -1 -1 -1 -1 4 3 -1 -1 7 5 -1 -1 -1 -1 -1 -1 -1 -1 -1 -1 -1\n",
    "\n",
    "#### 정답"
   ]
  },
  {
   "cell_type": "code",
   "execution_count": 7,
   "id": "229fcce3",
   "metadata": {},
   "outputs": [
    {
     "name": "stdout",
     "output_type": "stream",
     "text": [
      "baekjoon\n",
      "1 0 -1 -1 2 -1 -1 -1 -1 4 3 -1 -1 7 5 -1 -1 -1 -1 -1 -1 -1 -1 -1 -1 -1\n"
     ]
    }
   ],
   "source": [
    "li = []\n",
    "S = input()\n",
    "for i in range(97,123): \n",
    "  n = -1\n",
    "  for s in range(len(S)):\n",
    "    if S[s] == chr(i):\n",
    "      n = s\n",
    "      break\n",
    "  li.append(n)\n",
    "print(*li)"
   ]
  },
  {
   "cell_type": "markdown",
   "id": "c5e7da1d",
   "metadata": {},
   "source": [
    "### [단계 7] 2675번 문자열 반복\n",
    "#### 문제\n",
    "문자열 S를 입력받은 후에, 각 문자를 R번 반복해 새 문자열 P를 만든 후 출력하는 프로그램을 작성하시오. 즉, 첫 번째 문자를 R번 반복하고, 두 번째 문자를 R번 반복하는 식으로 P를 만들면 된다. S에는 QR Code \"alphanumeric\" 문자만 들어있다.\n",
    "\n",
    "QR Code \"alphanumeric\" 문자는 0123456789ABCDEFGHIJKLMNOPQRSTUVWXYZ\\$%*+-./: 이다.\n",
    "#### 입력\n",
    "첫째 줄에 테스트 케이스의 개수 T(1 ≤ T ≤ 1,000)가 주어진다. 각 테스트 케이스는 반복 횟수 R(1 ≤ R ≤ 8), 문자열 S가 공백으로 구분되어 주어진다. S의 길이는 적어도 1이며, 20글자를 넘지 않는다. \n",
    "#### 출력\n",
    "각 테스트 케이스에 대해 P를 출력한다.\n",
    "#### 예제:\n",
    " - 예제 입력: \n",
    " \n",
    "         2\n",
    "         \n",
    "         3 ABC  \n",
    "         \n",
    "         5 /HTP\n",
    " - 예제 출력:  \n",
    "         \n",
    "         AAABBBCCC  \n",
    "         \n",
    "         /////HHHHHTTTTTPPPPP\n",
    "#### 정답"
   ]
  },
  {
   "cell_type": "code",
   "execution_count": 8,
   "id": "ec9ac9a9",
   "metadata": {},
   "outputs": [
    {
     "name": "stdout",
     "output_type": "stream",
     "text": [
      "2\n",
      "3 ABC\n",
      "AAABBBCCC\n",
      "5 /HTP\n",
      "/////HHHHHTTTTTPPPPP\n"
     ]
    }
   ],
   "source": [
    "T = int(input())\n",
    "for t in range(T):\n",
    "  P =''\n",
    "  R, S= map(str, input().split())\n",
    "  for s in S:\n",
    "    P += s*int(R)\n",
    "  print(P)"
   ]
  },
  {
   "cell_type": "markdown",
   "id": "23d9e4fe",
   "metadata": {},
   "source": [
    "### [단계 8] 1152번 단어의 개수\n",
    "#### 문제\n",
    "영어 대소문자와 공백으로 이루어진 문자열이 주어진다. 이 문자열에는 몇 개의 단어가 있을까? 이를 구하는 프로그램을 작성하시오. 단, 한 단어가 여러 번 등장하면 등장한 횟수만큼 모두 세어야 한다.\n",
    "#### 입력\n",
    "첫 줄에 영어 대소문자와 공백으로 이루어진 문자열이 주어진다. 이 문자열의 길이는 1,000,000을 넘지 않는다. 단어는 공백 한 개로 구분되며, 공백이 연속해서 나오는 경우는 없다. 또한 문자열은 공백으로 시작하거나 끝날 수 있다.\n",
    "#### 출력\n",
    "첫째 줄에 단어의 개수를 출력한다.\n",
    "#### 예제:\n",
    " - 예제1 입력: The Curious Case of Benjamin Button\n",
    " - 예제1 출력: 6\n",
    " - 예제2 입력: The first character is a blank\n",
    " - 예제2 출력: 6\n",
    " - 예제3 입력: The last character is a blank\n",
    " - 예제3 출력: 6\n",
    "#### 정답"
   ]
  },
  {
   "cell_type": "code",
   "execution_count": 1,
   "id": "63d03d71",
   "metadata": {},
   "outputs": [
    {
     "name": "stdout",
     "output_type": "stream",
     "text": [
      "The Curious Case of Benjamin Button\n",
      "6\n"
     ]
    }
   ],
   "source": [
    "li = list(map(str,input().split()))\n",
    "print(len(li))"
   ]
  },
  {
   "cell_type": "markdown",
   "id": "57f9d621",
   "metadata": {},
   "source": [
    "### [단계 9] 2908번 상수\n",
    "#### 문제\n",
    "상근이의 동생 상수는 수학을 정말 못한다. 상수는 숫자를 읽는데 문제가 있다. 이렇게 수학을 못하는 상수를 위해서 상근이는 수의 크기를 비교하는 문제를 내주었다. 상근이는 세 자리 수 두 개를 칠판에 써주었다. 그 다음에 크기가 큰 수를 말해보라고 했다.\n",
    "\n",
    "상수는 수를 다른 사람과 다르게 거꾸로 읽는다. 예를 들어, 734와 893을 칠판에 적었다면, 상수는 이 수를 437과 398로 읽는다. 따라서, 상수는 두 수중 큰 수인 437을 큰 수라고 말할 것이다.\n",
    "\n",
    "두 수가 주어졌을 때, 상수의 대답을 출력하는 프로그램을 작성하시오.\n",
    "#### 입력\n",
    "첫째 줄에 상근이가 칠판에 적은 두 수 A와 B가 주어진다. 두 수는 같지 않은 세 자리 수이며, 0이 포함되어 있지 않다.\n",
    "#### 출력\n",
    "첫째 줄에 상수의 대답을 출력한다.\n",
    "#### 예제:\n",
    " - 예제1 입력: 734 893\n",
    " - 예제1 출력: 437\n",
    " - 예제2 입력: 221 231\n",
    " - 예제2 출력: 132\n",
    " - 예제3 입력: 839 237\n",
    " - 예제3 출력: 938\n",
    "#### 정답"
   ]
  },
  {
   "cell_type": "code",
   "execution_count": 19,
   "id": "40aed05c",
   "metadata": {},
   "outputs": [
    {
     "name": "stdout",
     "output_type": "stream",
     "text": [
      "734 893\n",
      "437\n"
     ]
    }
   ],
   "source": [
    "A,B = map(str, input().split())\n",
    "A,B = list(A), list(B) #문자열 -> 리스트\n",
    "A[0], A[-1] = A[-1], A[0]\n",
    "B[0], B[-1] = B[-1], B[0]\n",
    "A, B = \"\".join(A), \"\".join(B) #리스트 -> 문자열\n",
    "if A>B:\n",
    "    print(A)\n",
    "else:\n",
    "    print(B)"
   ]
  },
  {
   "cell_type": "markdown",
   "id": "875efb83",
   "metadata": {},
   "source": [
    "### [단계 10] 5622번 다이얼\n",
    "#### 문제\n",
    "상근이의 할머니는 아래 그림과 같이 오래된 다이얼 전화기를 사용한다.  \n",
    "전화를 걸고 싶은 번호가 있다면, 숫자를 하나를 누른 다음에 금속 핀이 있는 곳 까지 시계방향으로 돌려야 한다. 숫자를 하나 누르면 다이얼이 처음 위치로 돌아가고, 다음 숫자를 누르려면 다이얼을 처음 위치에서 다시 돌려야 한다.\n",
    "\n",
    "숫자 1을 걸려면 총 2초가 필요하다. 1보다 큰 수를 거는데 걸리는 시간은 이보다 더 걸리며, 한 칸 옆에 있는 숫자를 걸기 위해선 1초씩 더 걸린다.\n",
    "\n",
    "상근이의 할머니는 전화 번호를 각 숫자에 해당하는 문자로 외운다. 즉, 어떤 단어를 걸 때, 각 알파벳에 해당하는 숫자를 걸면 된다. 예를 들어, UNUCIC는 868242와 같다.\n",
    "\n",
    "할머니가 외운 단어가 주어졌을 때, 이 전화를 걸기 위해서 필요한 최소 시간을 구하는 프로그램을 작성하시오.\n",
    "\n",
    "#### 입력\n",
    "첫째 줄에 알파벳 대문자로 이루어진 단어가 주어진다. 단어의 길이는 2보다 크거나 같고, 15보다 작거나 같다.\n",
    "#### 출력\n",
    "첫째 줄에 다이얼을 걸기 위해서 필요한 최소 시간을 출력한다.\n",
    "#### 예제:\n",
    " - 예제1 입력: WA\n",
    " - 예제1 출력: 13\n",
    " - 예제2 입력: UNUCIC\n",
    " - 예제2 출력: 36\n",
    "#### 정답"
   ]
  },
  {
   "cell_type": "code",
   "execution_count": 2,
   "id": "cc707b1f",
   "metadata": {},
   "outputs": [
    {
     "name": "stdout",
     "output_type": "stream",
     "text": [
      "WA\n",
      "13\n"
     ]
    }
   ],
   "source": [
    "#쉬운 정답\n",
    "T = input()\n",
    "time = 0\n",
    "for t in T:\n",
    "  if t == 'A' or t == 'B' or t == 'C':\n",
    "    time += 3\n",
    "  elif t == 'D' or t == 'E' or t == 'F':\n",
    "    time += 4\n",
    "  elif t == 'G' or t == 'H' or t == 'I':\n",
    "    time += 5\n",
    "  elif t == 'J' or t == 'K' or t == 'L':\n",
    "    time += 6\n",
    "  elif t == 'M' or t == 'N' or t == 'O':\n",
    "    time += 7\n",
    "  elif t == 'P' or t == 'Q' or t == 'R' or t == 'S':\n",
    "    time += 8\n",
    "  elif t == 'T' or t == 'U' or t == 'V':\n",
    "    time += 9\n",
    "  elif t == 'W' or t == 'X' or t == 'Y' or t == 'Z':\n",
    "    time += 10\n",
    "\n",
    "print(time)"
   ]
  },
  {
   "cell_type": "code",
   "execution_count": 3,
   "id": "ca2bd2a2",
   "metadata": {},
   "outputs": [
    {
     "name": "stdout",
     "output_type": "stream",
     "text": [
      "UNUCIC\n",
      "36\n"
     ]
    }
   ],
   "source": [
    "#좀 더 간단한 정답\n",
    "#아스키코드 - 'A'~'Z' => 65 ~ 90\n",
    "T = input()\n",
    "time = [3,3,3,4,4,4,5,5,5,6,6,6,7,7,7,8,8,8,8,9,9,9,10,10,10,10]\n",
    "result = 0\n",
    "for t in T:\n",
    "  for i in range(65,91):\n",
    "    if ord(t) == i:\n",
    "      result += time[i-65]\n",
    "\n",
    "print(result)"
   ]
  },
  {
   "cell_type": "markdown",
   "id": "8eb24966",
   "metadata": {},
   "source": [
    "### [단계 11] 11718번 그대로 출력하기\n",
    "#### 문제\n",
    "입력 받은 대로 출력하는 프로그램을 작성하시오.\n",
    "#### 입력\n",
    "입력이 주어진다. 입력은 최대 100줄로 이루어져 있고, 알파벳 소문자, 대문자, 공백, 숫자로만 이루어져 있다. 각 줄은 100글자를 넘지 않으며, 빈 줄은 주어지지 않는다. 또, 각 줄은 공백으로 시작하지 않고, 공백으로 끝나지 않는다.\n",
    "#### 출력\n",
    "입력받은 그대로 출력한다.\n",
    "#### 예제:\n",
    " - 예제1 입력:  \n",
    "         \n",
    "         Hello \n",
    "         \n",
    "         Baekjoon  \n",
    "         \n",
    "         Online Judge\n",
    " - 예제1 출력:  \n",
    "         \n",
    "         Hello  \n",
    "         \n",
    "         Baekjoon  \n",
    "         \n",
    "         Online Judge\n",
    "#### 정답"
   ]
  },
  {
   "cell_type": "code",
   "execution_count": null,
   "id": "b1a220cd",
   "metadata": {},
   "outputs": [
    {
     "name": "stdout",
     "output_type": "stream",
     "text": [
      "Hello\n",
      "Hello\n",
      "Baekjoon\n",
      "Baekjoon\n",
      "Online Judge\n",
      "Online Judge\n"
     ]
    }
   ],
   "source": [
    "#입력 값이 없을 때까지 input() 함수로 데이터 읽어들이기\n",
    "while True:\n",
    "    try:\n",
    "        s = input()\n",
    "        print(s)\n",
    "    except EOFError: #입력값이 없어 예외가 발생(EndOfFile)\n",
    "        break"
   ]
  },
  {
   "cell_type": "code",
   "execution_count": null,
   "id": "1073aa17",
   "metadata": {},
   "outputs": [],
   "source": []
  }
 ],
 "metadata": {
  "kernelspec": {
   "display_name": "Python 3 (ipykernel)",
   "language": "python",
   "name": "python3"
  },
  "language_info": {
   "codemirror_mode": {
    "name": "ipython",
    "version": 3
   },
   "file_extension": ".py",
   "mimetype": "text/x-python",
   "name": "python",
   "nbconvert_exporter": "python",
   "pygments_lexer": "ipython3",
   "version": "3.9.13"
  }
 },
 "nbformat": 4,
 "nbformat_minor": 5
}
