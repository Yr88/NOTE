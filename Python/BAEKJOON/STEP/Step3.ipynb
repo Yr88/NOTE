{
 "cells": [
  {
   "cell_type": "markdown",
   "id": "3e9839b4",
   "metadata": {},
   "source": [
    "# 반복문\n",
    "\n",
    "### [단계 1] 2739번 구구단\n",
    "#### 문제\n",
    "N을 입력받은 뒤, 구구단 N단을 출력하는 프로그램을 작성하시오. 출력 형식에 맞춰서 출력하면 된다.\n",
    "#### 입력\n",
    "첫째 줄에 N이 주어진다. N은 1보다 크거나 같고, 9보다 작거나 같다.\n",
    "#### 출력\n",
    "출력형식과 같게 N*1부터 N*9까지 출력한다.\n",
    "#### 예제:\n",
    " - 예제 입력: 2\n",
    " - 예제 출력:  \n",
    " 2 * 1 = 2  \n",
    " 2 * 2 = 4  \n",
    " 2 * 3 = 6  \n",
    " 2 * 4 = 8  \n",
    " 2 * 5 = 10  \n",
    " 2 * 6 = 12  \n",
    " 2 * 7 = 14  \n",
    " 2 * 8 = 16  \n",
    " 2 * 9 = 18\n",
    "#### 정답"
   ]
  },
  {
   "cell_type": "code",
   "execution_count": 1,
   "id": "7d8cbdfa",
   "metadata": {},
   "outputs": [
    {
     "name": "stdout",
     "output_type": "stream",
     "text": [
      "2\n",
      "2 * 1 = 2\n",
      "2 * 2 = 4\n",
      "2 * 3 = 6\n",
      "2 * 4 = 8\n",
      "2 * 5 = 10\n",
      "2 * 6 = 12\n",
      "2 * 7 = 14\n",
      "2 * 8 = 16\n",
      "2 * 9 = 18\n"
     ]
    }
   ],
   "source": [
    "#구구단\n",
    "\n",
    "num = int(input())\n",
    "\n",
    "for n in range(1,10):\n",
    "  print(num,\"*\",n,\"=\",num*n)"
   ]
  },
  {
   "cell_type": "markdown",
   "id": "7b40da34",
   "metadata": {},
   "source": [
    "### [단계 2] 10950번 A+B-3\n",
    "#### 문제\n",
    "두 정수 A와 B를 입력받은 다음, A+B를 출력하는 프로그램을 작성하시오.\n",
    "#### 입력\n",
    "첫째 줄에 테스트 케이스의 개수 T가 주어진다.\n",
    "\n",
    "각 테스트 케이스는 한 줄로 이루어져 있으며, 각 줄에 A와 B가 주어진다. (0 < A, B < 10)\n",
    "#### 출력\n",
    "각 테스트 케이스마다 A+B를 출력한다.\n",
    "#### 예제:\n",
    " - 예제 입력:  \n",
    " 5  \n",
    " \n",
    " 1 1  \n",
    " \n",
    " 2 3  \n",
    " \n",
    " 3 4  \n",
    " \n",
    " 9 8  \n",
    " \n",
    " 5 2\n",
    " - 예제 출력:  \n",
    " 2 \n",
    " \n",
    " 5  \n",
    " \n",
    " 7  \n",
    " \n",
    " 17  \n",
    " \n",
    " 7\n",
    "\n",
    "#### 정답"
   ]
  },
  {
   "cell_type": "code",
   "execution_count": 6,
   "id": "732d6515",
   "metadata": {},
   "outputs": [
    {
     "name": "stdout",
     "output_type": "stream",
     "text": [
      "5\n",
      "1 1\n",
      "2\n",
      "2 3\n",
      "5\n",
      "3 4\n",
      "7\n",
      "9 8\n",
      "17\n",
      "5 2\n",
      "7\n"
     ]
    }
   ],
   "source": [
    "T = int(input())\n",
    "\n",
    "for t in range(T): #t를 for문에 쓰지 않았지만 T만큼 돌아가는 이유는 메모리 어딘가에 t가 생성되었기 때문이다.\n",
    "  A, B = map(int, input().split())\n",
    "  print(A+B)"
   ]
  },
  {
   "cell_type": "markdown",
   "id": "89f40120",
   "metadata": {},
   "source": [
    "### [단계 3] 8393번 합\n",
    "#### 문제\n",
    "n이 주어졌을 때, 1부터 n까지 합을 구하는 프로그램을 작성하시오.\n",
    "#### 입력\n",
    "첫째 줄에 n (1 ≤ n ≤ 10,000)이 주어진다.\n",
    "#### 출력\n",
    "1부터 n까지 합을 출력한다.\n",
    "#### 예제:\n",
    " - 예제 입력: 3\n",
    " - 예제 출력: 6\n",
    "\n",
    "#### 정답"
   ]
  },
  {
   "cell_type": "code",
   "execution_count": 3,
   "id": "c0efcc37",
   "metadata": {},
   "outputs": [
    {
     "name": "stdout",
     "output_type": "stream",
     "text": [
      "3\n",
      "6\n"
     ]
    }
   ],
   "source": [
    "num = int(input())\n",
    "sum = 0\n",
    "\n",
    "for n in range(num):#0,1,2\n",
    "  sum += n+1\n",
    "\n",
    "print(sum)"
   ]
  },
  {
   "cell_type": "markdown",
   "id": "44875d7a",
   "metadata": {},
   "source": [
    "### [단계 4] 25304번 영수증\n",
    "#### 문제\n",
    "준원이는 저번 주에 살면서 처음으로 코스트코를 가 봤다. 정말 멋졌다. 그런데, 몇 개 담지도 않았는데 수상하게 높은 금액이 나오는 것이다! 준원이는 영수증을 보면서 정확하게 계산된 것이 맞는지 확인해보려 한다.\n",
    "영수증에 적힌,\n",
    "\n",
    "- 구매한 각 물건의 가격과 개수\n",
    "- 구매한 물건들의 총 금액\n",
    "\n",
    "을 보고, 구매한 물건의 가격과 개수로 계산한 총 금액이 영수증에 적힌 총 금액과 일치하는지 검사해보자.\n",
    "#### 입력\n",
    "첫째 줄에는 영수증에 적힌 총 금액 X가 주어진다.\n",
    "\n",
    "둘째 줄에는 영수증에 적힌 구매한 물건의 종류의 수 N이 주어진다.\n",
    "\n",
    "이후 N개의 줄에는 각 물건의 가격 a와 개수 b가 공백을 사이에 두고 주어진다.\n",
    "#### 제한\n",
    "- 1 ≤ X ≤ 1 000 000 000\n",
    "- 1 ≤ N ≤ 100\n",
    "- 1 ≤ a ≤ 1 000 000\n",
    "- 1 ≤ b ≤ 10\n",
    "\n",
    "#### 출력\n",
    "구매한 물건의 가격과 개수로 계산한 총 금액이 영수증에 적힌 총 금액과 일치하면 Yes를 출력한다. 일치하지 않는다면 No를 출력한다.\n",
    "#### 예제:\n",
    "- 예제1 입력:  \n",
    "    260000  \n",
    "    \n",
    "    4  \n",
    "    \n",
    "    20000 5  \n",
    "    \n",
    "    30000 2  \n",
    "    \n",
    "    10000 6  \n",
    "    \n",
    "    5000 8\n",
    "    \n",
    "    \n",
    "- 예제1 출력: Yes  \n",
    "=> 영수증에 적힌 구매할 물건들의 목록으로 계산한 총 금액은 20000 × 5 + 30000 × 2 + 10000 × 6 + 5000 × 8 = 260000원이다. 이는 영수증에 적힌 총 금액인 260000원과 일치한다.\n",
    "\n",
    "\n",
    "- 예제2 입력:  \n",
    "    250000  \n",
    "    \n",
    "    4  \n",
    "    \n",
    "    20000 5  \n",
    "    \n",
    "    30000 2  \n",
    "    \n",
    "    10000 6  \n",
    "    \n",
    "    5000 8  \n",
    "\n",
    "\n",
    "- 예제2 출력: No\n",
    "#### 정답"
   ]
  },
  {
   "cell_type": "code",
   "execution_count": 4,
   "id": "b54e3550",
   "metadata": {},
   "outputs": [
    {
     "name": "stdout",
     "output_type": "stream",
     "text": [
      "260000\n",
      "4\n",
      "20000 5\n",
      "30000 2\n",
      "10000 6\n",
      "5000 8\n",
      "Yes\n"
     ]
    }
   ],
   "source": [
    "X = int(input()) #영수증에 적힌 총 금액\n",
    "N = int(input()) #영수증에 적힌 구매한 물건의 종류의 수\n",
    "sum = 0\n",
    "\n",
    "for n in range(N):\n",
    "  a, b = map(int, input().split())\n",
    "  sum += a*b\n",
    "\n",
    "if sum == X:\n",
    "  print(\"Yes\")\n",
    "else:\n",
    "  print(\"No\")"
   ]
  },
  {
   "cell_type": "markdown",
   "id": "1e309005",
   "metadata": {},
   "source": [
    "### [단계 5] 25314번 코딩은 체육과목 입니다.\n",
    "#### 문제\n",
    "오늘은 혜아의 면접 날이다. 면접 준비를 열심히 해서 앞선 질문들을 잘 대답한 혜아는 이제 마지막으로 칠판에 직접 코딩하는 문제를 받았다. 혜아가 받은 문제는 두 수를 더하는 문제였다. C++ 책을 열심히 읽었던 혜아는 간단히 두 수를 더하는 코드를 칠판에 적었다. 코드를 본 면접관은 다음 질문을 했다. “만약, 입출력이 N바이트 크기의 정수라면 프로그램을 어떻게 구현해야 할까요?”\n",
    "\n",
    "혜아는 책에 있는 정수 자료형과 관련된 내용을 기억해 냈다. 책에는 `long int`는 4바이트 정수까지 저장할 수 있는 정수 자료형이고 `long long int`는 8바이트 정수까지 저장할 수 있는 정수 자료형이라고 적혀 있었다. 혜아는 이런 생각이 들었다. “`int` 앞에 `long`을 하나씩 더 붙일 때마다 4바이트씩 저장할 수 있는 공간이 늘어나는 걸까? 분명 `long long long int`는 12바이트, `long long long long int`는 16바이트까지 저장할 수 있는 정수 자료형일 거야!” 그렇게 혜아는 당황하는 면접관의 얼굴을 뒤로한 채 칠판에 정수 자료형을 써 내려가기 시작했다.\n",
    "\n",
    "혜아가 N바이트 정수까지 저장할 수 있다고 생각해서 칠판에 쓴 정수 자료형의 이름은 무엇일까?\n",
    "#### 입력\n",
    "첫 번째 줄에는 문제의 정수 N이 주어진다. (4≤N≤1000; N은 4의 배수)\n",
    "#### 출력\n",
    "혜아가 N바이트 정수까지 저장할 수 있다고 생각하는 정수 자료형의 이름을 출력하여라.\n",
    "#### 노트\n",
    "출력에서 `long`과 `long`, `long`과 `int` 사이에는 공백이 하나씩 들어간다.\n",
    "\n",
    "실제로 C++에서 각 정수 자료형이 저장할 수 있는 수의 크기는 환경에 따라 달라질 수 있다. 덧붙여, 실제로 문제 내용과 같이 `long long long int`와 같은 자료형을 사용한 코드를 GCC의 C++ 컴파일러를 사용해 컴파일하려고 할 경우 `'long long long' is too long for GCC`라는 에러 메시지와 함께 컴파일되지 않는다.\n",
    "#### 예제:\n",
    "- 예제1 입력: 4 \n",
    "- 예제1 출력: long int\n",
    "- 예제2 입력: 20\n",
    "- 예제2 출력: long long long long long int\n",
    "#### 정답"
   ]
  },
  {
   "cell_type": "code",
   "execution_count": 5,
   "id": "e5f5b1d6",
   "metadata": {},
   "outputs": [
    {
     "name": "stdout",
     "output_type": "stream",
     "text": [
      "4\n",
      "long int\n"
     ]
    }
   ],
   "source": [
    "N = int(input())\n",
    "\n",
    "N = N//4\n",
    "\n",
    "print(\"long \"* N + \"int\")"
   ]
  },
  {
   "cell_type": "markdown",
   "id": "adefdc1e",
   "metadata": {},
   "source": [
    "### [단계 6] 15552번 빠른 A+B\n",
    "#### 문제\n",
    "본격적으로 for문 문제를 풀기 전에 주의해야 할 점이 있다. 입출력 방식이 느리면 여러 줄을 입력받거나 출력할 때 시간초과가 날 수 있다는 점이다.\n",
    "\n",
    "C++을 사용하고 있고 `cin`/`cout`을 사용하고자 한다면, `cin.tie(NULL)`과 `sync_with_stdio(false)`를 둘 다 적용해 주고, `endl` 대신 개행문자(`\\n`)를 쓰자. 단, 이렇게 하면 더 이상 `scanf`/`printf`/`puts`/`getchar`/`putchar` 등 C의 입출력 방식을 사용하면 안 된다.\n",
    "\n",
    "Java를 사용하고 있다면, `Scanner`와 `System.out.println` 대신 `BufferedReader`와 `BufferedWriter`를 사용할 수 있다. `BufferedWriter.flush`는 맨 마지막에 한 번만 하면 된다.\n",
    "\n",
    "Python을 사용하고 있다면, `input` 대신 `sys.stdin.readline`을 사용할 수 있다. 단, 이때는 맨 끝의 개행문자까지 같이 입력받기 때문에 문자열을 저장하고 싶을 경우 `.rstrip()`을 추가로 해 주는 것이 좋다.\n",
    "\n",
    "또한 입력과 출력 스트림은 별개이므로, 테스트케이스를 전부 입력받아서 저장한 뒤 전부 출력할 필요는 없다. 테스트케이스를 하나 받은 뒤 하나 출력해도 된다.\n",
    "\n",
    "자세한 설명 및 다른 언어의 경우는 [이 글](http://www.acmicpc.net/board/view/22716)에 설명되어 있다.\n",
    "\n",
    "[이 블로그 글](http://www.acmicpc.net/blog/view/55)에서 BOJ의 기타 여러 가지 팁을 볼 수 있다.\n",
    "#### 입력\n",
    "첫 줄에 테스트케이스의 개수 T가 주어진다. T는 최대 1,000,000이다. 다음 T줄에는 각각 두 정수 A와 B가 주어진다. A와 B는 1 이상, 1,000 이하이다.\n",
    "#### 출력\n",
    "각 테스트케이스마다 A+B를 한 줄에 하나씩 순서대로 출력한다.\n",
    "#### 노트\n",
    "출력에서 `long`과 `long`, `long`과 `int` 사이에는 공백이 하나씩 들어간다.\n",
    "\n",
    "실제로 C++에서 각 정수 자료형이 저장할 수 있는 수의 크기는 환경에 따라 달라질 수 있다. 덧붙여, 실제로 문제 내용과 같이 `long long long int`와 같은 자료형을 사용한 코드를 GCC의 C++ 컴파일러를 사용해 컴파일하려고 할 경우 `'long long long' is too long for GCC`라는 에러 메시지와 함께 컴파일되지 않는다.\n",
    "#### 예제:\n",
    "- 예제 입력:  \n",
    "\n",
    "5   \n",
    "\n",
    "1 1  \n",
    "\n",
    "12 34  \n",
    "\n",
    "5 500  \n",
    "\n",
    "40 60  \n",
    "\n",
    "1000 1000\n",
    "- 예제 출력:  \n",
    "\n",
    "2  \n",
    "\n",
    "46  \n",
    "\n",
    "505  \n",
    "\n",
    "100  \n",
    "\n",
    "2000\n",
    "#### 정답"
   ]
  },
  {
   "cell_type": "code",
   "execution_count": null,
   "id": "6b8530c5",
   "metadata": {},
   "outputs": [],
   "source": [
    "import sys\n",
    "\n",
    "# 한 두 줄 입력받는 문제들과 다르게, 반복문으로 여러 줄을 입력 받아야 할 때는 input()으로 입력받는다면 시간초과가 발생할 수 있다\n",
    "T = int(input())\n",
    "for t in range(T):\n",
    "  A,B = map(int, sys.stdin.readline().split())\n",
    "  print(A+B)"
   ]
  },
  {
   "cell_type": "markdown",
   "id": "259794d9",
   "metadata": {},
   "source": [
    "### [단계 7] 11021번 A+B-7\n",
    "#### 문제\n",
    "두 정수 A와 B를 입력받은 다음, A+B를 출력하는 프로그램을 작성하시오.\n",
    "#### 입력\n",
    "첫째 줄에 테스트 케이스의 개수 T가 주어진다. 각 테스트 케이스는 한 줄로 이루어져 있으며, 각 줄에 A와 B가 주어진다. ( 0 < A, B < 10)\n",
    "#### 출력\n",
    "각 테스트 케이스마다 “Case #x: “를 출력한 다음, A+B를 출력한다. 테스트 케이스 번호는 1부터 시작한다.\n",
    "#### 예제:\n",
    "- 예제 입력:  \n",
    "\n",
    "5   \n",
    "\n",
    "1 1  \n",
    "\n",
    "2 3\n",
    "\n",
    "3 4\n",
    "\n",
    "9 8\n",
    "\n",
    "5 2\n",
    "- 예제 출력:  \n",
    "\n",
    "Case #1:2\n",
    "\n",
    "Case #2:5\n",
    "\n",
    "Case #3:7\n",
    "\n",
    "Case #4:17\n",
    "\n",
    "Case #5:7\n",
    "#### 정답"
   ]
  },
  {
   "cell_type": "code",
   "execution_count": 10,
   "id": "83b1d139",
   "metadata": {},
   "outputs": [
    {
     "name": "stdout",
     "output_type": "stream",
     "text": [
      "5\n",
      "1 1\n",
      "Case #1: 2\n",
      "2 3\n",
      "Case #2: 5\n",
      "3 4\n",
      "Case #3: 7\n",
      "9 8\n",
      "Case #4: 17\n",
      "5 2\n",
      "Case #5: 7\n"
     ]
    }
   ],
   "source": [
    "T = int(input())\n",
    "for t in range(T):\n",
    "    A,B = map(int, input().split())\n",
    "    print(f'Case #{t+1}: {A+B}')#출력 결과와 잘 비교해서 공백에도 신경쓰기"
   ]
  },
  {
   "cell_type": "markdown",
   "id": "4c7a057d",
   "metadata": {},
   "source": [
    "### [단계 8] 11022번 A+B-8\n",
    "#### 문제\n",
    "두 정수 A와 B를 입력받은 다음, A+B를 출력하는 프로그램을 작성하시오.\n",
    "#### 입력\n",
    "첫째 줄에 테스트 케이스의 개수 T가 주어진다. 각 테스트 케이스는 한 줄로 이루어져 있으며, 각 줄에 A와 B가 주어진다. ( 0 < A, B < 10)\n",
    "#### 출력\n",
    "각  테스트 케이스마다 “Case #x: A + B = C” 형식으로 출력한다. x는 테스트 케이스 번호이고 1부터 시작하며, C는 A+B이다.\n",
    "#### 예제:\n",
    "- 예제 입력:  \n",
    "\n",
    "5   \n",
    "\n",
    "1 1  \n",
    "\n",
    "2 3\n",
    "\n",
    "3 4\n",
    "\n",
    "9 8\n",
    "\n",
    "5 2\n",
    "- 예제 출력:  \n",
    "\n",
    "Case #1: 1 + 1 = 2\n",
    "\n",
    "Case #2: 2 + 3 = 5\n",
    "\n",
    "Case #3: 3 + 4 = 7\n",
    "\n",
    "Case #4: 9 + 8 = 17\n",
    "\n",
    "Case #5: 5 + 2 = 7\n",
    "#### 정답"
   ]
  },
  {
   "cell_type": "code",
   "execution_count": 11,
   "id": "dd2aa90c",
   "metadata": {},
   "outputs": [
    {
     "name": "stdout",
     "output_type": "stream",
     "text": [
      "5\n",
      "1 1\n",
      "Case #1: 1 + 1 = 2\n",
      "2 3\n",
      "Case #2: 2 + 3 = 5\n",
      "3 4\n",
      "Case #3: 3 + 4 = 7\n",
      "9 8\n",
      "Case #4: 9 + 8 = 17\n",
      "5 2\n",
      "Case #5: 5 + 2 = 7\n"
     ]
    }
   ],
   "source": [
    "T = int(input())\n",
    "for t in range(T):\n",
    "    A,B = map(int, input().split())\n",
    "    print(f'Case #{t+1}: {A} + {B} = {A+B}')"
   ]
  },
  {
   "cell_type": "markdown",
   "id": "1aa1f02d",
   "metadata": {},
   "source": [
    "### [단계 9] 2438번 별 찍기 - 1\n",
    "#### 문제\n",
    "첫째 줄에는 별 1개, 둘째 줄에는 별 2개, N번째 줄에는 별 N개를 찍는 문제\n",
    "#### 입력\n",
    "첫째 줄에 N(1 ≤ N ≤ 100)이 주어진다.\n",
    "#### 출력\n",
    "첫째 줄부터 N번째 줄까지 차례대로 별을 출력한다.\n",
    "#### 예제:\n",
    "- 예제 입력: 5\n",
    "- 예제 출력:  \n",
    "`*`  \n",
    "`**`  \n",
    "`***`  \n",
    "`****`  \n",
    "`*****`\n",
    "\n",
    "#### 정답"
   ]
  },
  {
   "cell_type": "code",
   "execution_count": 12,
   "id": "047290be",
   "metadata": {},
   "outputs": [
    {
     "name": "stdout",
     "output_type": "stream",
     "text": [
      "5\n",
      "*\n",
      "**\n",
      "***\n",
      "****\n",
      "*****\n"
     ]
    }
   ],
   "source": [
    "x = int(input())\n",
    "for i in range(1,x+1):\n",
    "    print(\"*\"*i)"
   ]
  },
  {
   "cell_type": "markdown",
   "id": "c559b94f",
   "metadata": {},
   "source": [
    "### [단계 10] 2439번 별 찍기 - 2\n",
    "#### 문제\n",
    "첫째 줄에는 별 1개, 둘째 줄에는 별 2개, N번째 줄에는 별 N개를 찍는 문제\n",
    "\n",
    "하지만, 오른쪽을 기준으로 정렬한 별(예제 참고)을 출력하시오.\n",
    "#### 입력\n",
    "첫째 줄에 N(1 ≤ N ≤ 100)이 주어진다.\n",
    "#### 출력\n",
    "첫째 줄부터 N번째 줄까지 차례대로 별을 출력한다.\n",
    "#### 예제:\n",
    "- 예제 입력: 5\n",
    "- 예제 출력:  \n",
    "&emsp;&emsp;&ensp;&ensp;`*`  \n",
    "&emsp;&emsp;`**`  \n",
    "&ensp;&ensp;&ensp;&ensp;`***`  \n",
    "&ensp;&ensp;`****`  \n",
    "`*****`\n",
    "\n",
    "#### 정답"
   ]
  },
  {
   "cell_type": "code",
   "execution_count": 13,
   "id": "001e23ca",
   "metadata": {},
   "outputs": [
    {
     "name": "stdout",
     "output_type": "stream",
     "text": [
      "5\n",
      "    *\n",
      "   **\n",
      "  ***\n",
      " ****\n",
      "*****\n"
     ]
    }
   ],
   "source": [
    "x = int(input())\n",
    "for i in range(1,x+1):\n",
    "    for j in range(x-i,0,-1):\n",
    "        print(\" \", end=\"\")#end=\"\" : 줄 바꿈 없이 출력\n",
    "    print(\"*\"*i)"
   ]
  },
  {
   "cell_type": "markdown",
   "id": "06b977df",
   "metadata": {},
   "source": [
    "### [단계 11] 10952번 A+B-5\n",
    "#### 문제\n",
    "두 정수 A와 B를 입력받은 다음, A+B를 출력하는 프로그램을 작성하시오.\n",
    "#### 입력\n",
    "입력은 여러 개의 테스트 케이스로 이루어져 있다.\n",
    "\n",
    "각 테스트 케이스는 한 줄로 이루어져 있으며, 각 줄에 A와 B가 주어진다. (0 < A, B < 10)\n",
    "\n",
    "입력의 마지막에는 0 두 개가 들어온다.\n",
    "#### 출력\n",
    "각 테스트 케이스마다 A+B를 출력한다.\n",
    "#### 예제:\n",
    "- 예제 입력:  \n",
    "1 1  \n",
    "2 3  \n",
    "3 4  \n",
    "9 8  \n",
    "5 2  \n",
    "0 0\n",
    "- 예제 출력:\n",
    "\n",
    "2\n",
    "\n",
    "5\n",
    "\n",
    "7\n",
    "\n",
    "17\n",
    "\n",
    "7\n",
    "\n",
    "#### 정답"
   ]
  },
  {
   "cell_type": "code",
   "execution_count": 14,
   "id": "ccc494e8",
   "metadata": {},
   "outputs": [
    {
     "name": "stdout",
     "output_type": "stream",
     "text": [
      "1 1\n",
      "2\n",
      "2 3\n",
      "5\n",
      "3 4\n",
      "7\n",
      "9 8\n",
      "17\n",
      "5 2\n",
      "7\n",
      "0 0\n"
     ]
    }
   ],
   "source": [
    "\twhile True: #무한 루프\n",
    "    A,B = map(int, input().split())\n",
    "    if A == 0 and B == 0:\n",
    "        break #탈출\n",
    "    else:\n",
    "        print(A + B)"
   ]
  },
  {
   "cell_type": "markdown",
   "id": "eb0dccf0",
   "metadata": {},
   "source": [
    "### [단계 12] 10951번 A+B-4\n",
    "#### 문제\n",
    "두 정수 A와 B를 입력받은 다음, A+B를 출력하는 프로그램을 작성하시오.\n",
    "#### 입력\n",
    "입력은 여러 개의 테스트 케이스로 이루어져 있다.\n",
    "\n",
    "각 테스트 케이스는 한 줄로 이루어져 있으며, 각 줄에 A와 B가 주어진다. (0 < A, B < 10)\n",
    "#### 출력\n",
    "각 테스트 케이스마다 A+B를 출력한다.\n",
    "#### 예제:\n",
    "- 예제 입력:  \n",
    "1 1  \n",
    "2 3  \n",
    "3 4  \n",
    "9 8  \n",
    "5 2\n",
    "- 예제 출력:\n",
    "\n",
    "2  \n",
    "\n",
    "5  \n",
    "\n",
    "7  \n",
    "\n",
    "17  \n",
    "\n",
    "7\n",
    "\n",
    "#### 정답"
   ]
  },
  {
   "cell_type": "code",
   "execution_count": null,
   "id": "c14edf05",
   "metadata": {},
   "outputs": [
    {
     "name": "stdout",
     "output_type": "stream",
     "text": [
      "1 1\n",
      "2\n",
      "2 3\n",
      "5\n",
      "3 4\n",
      "7\n",
      "9 8\n",
      "17\n",
      "5 2\n",
      "7\n"
     ]
    }
   ],
   "source": [
    "#입력 값이 없을 때까지 input() 함수로 데이터 읽어들이기\n",
    "while True:\n",
    "    try:\n",
    "        A,B = map(int, input().split())\n",
    "        print(A + B)\n",
    "    except EOFError: #입력값이 없어 예외가 발생(EndOfFile)\n",
    "        break"
   ]
  },
  {
   "cell_type": "code",
   "execution_count": null,
   "id": "357d0125",
   "metadata": {},
   "outputs": [],
   "source": []
  }
 ],
 "metadata": {
  "kernelspec": {
   "display_name": "Python 3 (ipykernel)",
   "language": "python",
   "name": "python3"
  },
  "language_info": {
   "codemirror_mode": {
    "name": "ipython",
    "version": 3
   },
   "file_extension": ".py",
   "mimetype": "text/x-python",
   "name": "python",
   "nbconvert_exporter": "python",
   "pygments_lexer": "ipython3",
   "version": "3.9.13"
  }
 },
 "nbformat": 4,
 "nbformat_minor": 5
}
