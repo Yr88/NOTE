{
 "cells": [
  {
   "cell_type": "markdown",
   "id": "4112f00a",
   "metadata": {},
   "source": [
    "# Day 3 사칙연산, 배열, 수학\n",
    "\n",
    "### 1. 나머지 구하기\n",
    "#### 문제 설명:\n",
    "정수 num1과 num2가 매개변수로 주어질 때, num1를  num2로 나눈 나머지를 return 하도록 solution 함수를 완성해주세요.\n",
    "#### 제한 사항:\n",
    "- 0 < num1 ≤ 100\n",
    "- 0 < num2 ≤ 100\n",
    "#### 입출력 예:\n",
    "    | num1 | num2 | result |\n",
    "    | --- | --- | --- |\n",
    "    | 3 | 2 | 1 |\n",
    "    | 10 | 5 | 0 |\n",
    "    \n",
    "1. num1이 3, num2가 2이므로 3을 2로 나눈 나머지 1을 return 합니다.\n",
    "    \n",
    "2. num1이 10, num2가 5이므로 10을 5로 나눈 나머지 0을 return 합니다.\n",
    "\n",
    "#### solution.py"
   ]
  },
  {
   "cell_type": "code",
   "execution_count": null,
   "id": "6444e899",
   "metadata": {},
   "outputs": [],
   "source": [
    "def solution(num1, num2):\n",
    "    answer = num1%num2\n",
    "    return answer"
   ]
  },
  {
   "cell_type": "markdown",
   "id": "31c3afeb",
   "metadata": {},
   "source": [
    "### 2. 중앙값 구하기\n",
    "#### 문제 설명:\n",
    "중앙값은 어떤 주어진 값들을 크기의 순서대로 정렬했을 때 가장 중앙에 위치하는 값을 의미합니다. 예를 들어 1,2,7,10,11의 중앙값은 7입니다. 정수 배열 array가 매개변수로 주어질 때, 중앙값을 return 하도록 solution 함수를 완성해보세요.\n",
    "#### 제한 사항:\n",
    "- array의 길이는 홀수입니다.\n",
    "- 0 < array의 길이 ≤ 100\n",
    "- -1000 < array의 원소 < 1,000\n",
    "#### 입출력 예:\n",
    "    | array | result |\n",
    "    | --- | --- |\n",
    "    | [1,2,7,10,11] | 7 |\n",
    "    | [-9,-1,0] | 0 |\n",
    "    \n",
    "1. 본문과 동일합니다.\n",
    "\n",
    "2. 9, -1, 0을 오름차순 정렬하면 -1, 0, 9이고 가장 중앙에 위치하는 값은 0입니다.\n",
    "\n",
    "#### solution.py"
   ]
  },
  {
   "cell_type": "code",
   "execution_count": null,
   "id": "8b2b1cec",
   "metadata": {},
   "outputs": [],
   "source": [
    "def solution(array):\n",
    "    L = len(array)\n",
    "    array.sort()\n",
    "    s = L//2\n",
    "    answer = array[s]\n",
    "    return answer"
   ]
  },
  {
   "cell_type": "markdown",
   "id": "4445f13c",
   "metadata": {},
   "source": [
    "### 3. 최빈값 구하기\n",
    "#### 문제 설명:\n",
    "최빈값은 주어진 값 중에서 가장 자주 나오는 값을 의미합니다. 정수 배열 array가 매개변수로 주어질 때, 최빈값을 return 하도록 solution 함수를 완성해보세요. 최빈값이 여러 개면 -1을 return 합니다.\n",
    "#### 제한 사항:\n",
    "- 0 < array의 길이 < 100\n",
    "- 0 ≤ array의 원소 < 1000\n",
    "#### 입출력 예:\n",
    "    | array | result |\n",
    "    | --- | --- |\n",
    "    | [1,2,3,3,3,4] | 3 |\n",
    "    | [1,1,2,2] | -1 |\n",
    "    | [1] | 1 |\n",
    "    \n",
    "1. [1, 2, 3, 3, 3, 4]에서 1은 1개 2는 1개 3은 3개 4는 1개로 최빈값은 3입니다.\n",
    "    \n",
    "2. [1, 1, 2, 2]에서 1은 2개 2는 2개로 최빈값이 1, 2입니다. 최빈값이 여러 개이므로 -1을 return 합니다.\n",
    "\n",
    "3. [1]에는 1만 있으므로 최빈값은 1입니다.\n",
    "\n",
    "#### solution.py"
   ]
  },
  {
   "cell_type": "code",
   "execution_count": null,
   "id": "e15e2e8a",
   "metadata": {},
   "outputs": [],
   "source": []
  },
  {
   "cell_type": "markdown",
   "id": "54a0e4c3",
   "metadata": {},
   "source": [
    "### 4. 짝수는 싫어요\n",
    "#### 문제 설명:\n",
    "정수 n이 매개변수로 주어질 때, n 이하의 홀수가 오름차순으로 담긴 배열을 return하도록 solution 함수를 완성해주세요.\n",
    "#### 제한 사항:\n",
    "- 1 ≤ n ≤ 100\n",
    "#### 입출력 예:\n",
    "    | n | result |\n",
    "    | --- | --- |\n",
    "    | 10 | [1,3,5,7,9] |\n",
    "    | 15 | [1,3,5,7,9,11,13,15 |\n",
    "    \n",
    "1. 10 이하의 홀수가 담긴 배열 [1, 3, 5, 7, 9]를 return합니다.\n",
    "    \n",
    "2. 15 이하의 홀수가 담긴 배열 [1, 3, 5, 7, 9, 11, 13, 15]를 return합니다.\n",
    "\n",
    "#### solution.py"
   ]
  },
  {
   "cell_type": "code",
   "execution_count": 16,
   "id": "a0cdeb57",
   "metadata": {},
   "outputs": [],
   "source": [
    "def solution(n):\n",
    "    li = [i for i in range(n+1)]\n",
    "    answer = []\n",
    "    for i in li:\n",
    "        if i%2!=0:\n",
    "            answer.append(i)\n",
    "    return answer"
   ]
  }
 ],
 "metadata": {
  "kernelspec": {
   "display_name": "Python 3 (ipykernel)",
   "language": "python",
   "name": "python3"
  },
  "language_info": {
   "codemirror_mode": {
    "name": "ipython",
    "version": 3
   },
   "file_extension": ".py",
   "mimetype": "text/x-python",
   "name": "python",
   "nbconvert_exporter": "python",
   "pygments_lexer": "ipython3",
   "version": "3.9.13"
  }
 },
 "nbformat": 4,
 "nbformat_minor": 5
}
