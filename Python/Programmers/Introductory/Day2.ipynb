{
 "cells": [
  {
   "cell_type": "markdown",
   "id": "c7df8fe8",
   "metadata": {},
   "source": [
    "# Day 2 사칙연산, 조건문, 배열\n",
    "\n",
    "### 1. 두 수의 나눗셈\n",
    "#### 문제 설명:\n",
    "정수 num1과 num2가 매개변수로 주어질 때, num1을  num2로 나눈 값에 1,000을 곱한 후 정수 부분을 return하도록 soltuion 함수를 완성해주세요.\n",
    "#### 제한 사항:\n",
    "- 0 ≤ num1 ≤ 100\n",
    "- 0 ≤ num2 ≤ 100\n",
    "#### 입출력 예:\n",
    "    | num1 | num2 | result |\n",
    "    | --- | --- | --- |\n",
    "    | 3 | 2 | 1500 |\n",
    "    | 7 | 3 | 2333 |\n",
    "    | 1 | 16 | 62 |\n",
    "    \n",
    "1. num1이 3, num2가 2이므로 3 / 2 = 1.5에 1,000을 곱하면 1500이 됩니다.\n",
    "    \n",
    "2. num1이 7, num2가 3이므로 7 / 3 = 2.33333...에 1,000을 곱하면 2333.3333.... 이 되며, 정수 부분은 2333입니다.\n",
    "\n",
    "3. num1이 1, num2가 16이므로 1 / 16 = 0.0625에 1,000을 곱하면 62.5가 되며, 정수 부분은 62입니다.\n",
    "\n",
    "#### solution.py"
   ]
  },
  {
   "cell_type": "code",
   "execution_count": null,
   "id": "454b15ea",
   "metadata": {},
   "outputs": [],
   "source": [
    "def solution(num1, num2):\n",
    "    answer = int((num1/num2)*1000)\n",
    "    return answer"
   ]
  },
  {
   "cell_type": "markdown",
   "id": "865f6d28",
   "metadata": {},
   "source": [
    "### 2. 숫자 비교하기\n",
    "#### 문제 설명:\n",
    "정수 num1과 num2가 매개변수로 주어집니다.두 수가 같으면 1 다르면 -1을 return하도록 solution 함수를 완성해주세요.\n",
    "#### 제한 사항:\n",
    "- 0 ≤ num1 ≤ 10,000\n",
    "- 0 ≤ num2 ≤ 10,000\n",
    "#### 입출력 예:\n",
    "    | num1 | num2 | result |\n",
    "    | --- | --- | --- |\n",
    "    | 2 | 3 | -1 | \n",
    "    | 11 | 11 | 1 |\n",
    "    | 7 | 99 | -1 |\n",
    "    \n",
    "1. num1이 2이고 num2가 3이므로 다릅니다. 따라서 -1을 return합니다.\n",
    "    \n",
    "2. num1이 11이고 num2가 11이므로 같습니다. 따라서 1을 return합니다.\n",
    "\n",
    "3. num1이 7이고 num2가 99이므로 다릅니다. 따라서 -1을 return합니다.\n",
    "\n",
    "#### solution.py"
   ]
  },
  {
   "cell_type": "code",
   "execution_count": null,
   "id": "376e5889",
   "metadata": {},
   "outputs": [],
   "source": [
    "def solution(num1, num2):\n",
    "    if num1 == num2:\n",
    "        answer = 1\n",
    "    else:\n",
    "        answer = -1\n",
    "    return answer"
   ]
  },
  {
   "cell_type": "markdown",
   "id": "1fb2c9cb",
   "metadata": {},
   "source": [
    "### 3. 분수의 덧셈\n",
    "#### 문제 설명:\n",
    "첫 번째 분수의 분자와 분모를 뜻하는 numer1, denom1, 두 번째 분수의 분자와 분모를 뜻하는 numer2, denom2가 매개변수로 주어집니다. 두 분수를 더한 값을 기약 분수로 나타냈을 때 분자와 분모를 순서대로 담은 배열을 return 하도록 solution 함수를 완성해보세요.\n",
    "#### 제한 사항:\n",
    "- 0 < numer1, denom1, numer2, denom2 < 1,000\n",
    "#### 입출력 예:\n",
    "    | numer1 | denom1 | numer2 | denom2 | result |\n",
    "    | --- | --- | --- | --- | --- |\n",
    "    | 1 | 2 | 3 | 4 | [5,4] |\n",
    "    | 9 | 2 | 1 | 3 | [29,6] |\n",
    "    \n",
    "1.  1 / 2 + 3 / 4 = 5 / 4입니다. 따라서 [5, 4]를 return 합니다.\n",
    "    \n",
    "2.  9 / 2 + 1 / 3 = 29 / 6입니다. 따라서 [29, 6]을 return 합니다.\n",
    "\n",
    "#### solution.py"
   ]
  },
  {
   "cell_type": "code",
   "execution_count": 1,
   "id": "48eb0909",
   "metadata": {},
   "outputs": [],
   "source": [
    "#기약분수 - 분자, 분모의 최대공약수로 나눈 것\n",
    "import math\n",
    "\n",
    "def solution(numer1, denom1, numer2, denom2):\n",
    "    n = (numer1*denom2) + (numer2*denom1)\n",
    "    d = denom1*denom2\n",
    "    num = math.gcd(n,d) #파이썬 math 라이브러리 사용해서 최대공약수 구하기\n",
    "    n /= num\n",
    "    d /= num\n",
    "    answer = [n,d]\n",
    "    return answer"
   ]
  },
  {
   "cell_type": "code",
   "execution_count": null,
   "id": "e9f015b2",
   "metadata": {},
   "outputs": [],
   "source": [
    "#math 라이브러리 대신 gcd 함수 만들기\n",
    "def gcd(n,d):\n",
    "    for i in range(min(n,d),0,-1):#최대공약수니까 거꾸로\n",
    "        if n%i == 0 and d%i ==0:#나머지가 0이 되면 return\n",
    "            return i\n",
    "\n",
    "def solution(numer1, denom1, numer2, denom2):\n",
    "    n = (numer1*denom2) + (numer2*denom1)\n",
    "    d = denom1*denom2\n",
    "    num = gcd(n,d) #이 부분 변경\n",
    "    n /= num\n",
    "    d /= num\n",
    "    answer = [n,d]\n",
    "    return answer"
   ]
  },
  {
   "cell_type": "markdown",
   "id": "5031f0a0",
   "metadata": {},
   "source": [
    "![nn](photo/Day2_3.jpg)"
   ]
  },
  {
   "cell_type": "markdown",
   "id": "419d3897",
   "metadata": {},
   "source": [
    "### 4. 배열 두 배 만들기\n",
    "#### 문제 설명:\n",
    "정수 배열 numbers가 매개변수로 주어집니다. numbers의 각 원소에 두배한 원소를 가진 배열을 return하도록 solution 함수를 완성해주세요.\n",
    "#### 제한 사항:\n",
    "- 10,000 ≤ numbers의 원소 ≤ 10,000\n",
    "- 1 ≤ numbers의 길이 ≤ 1,000\n",
    "#### 입출력 예:\n",
    "    | num1 | result |\n",
    "    | --- | --- |\n",
    "    | [1,2,3,4,5] | [2,4,6,8,10] |\n",
    "    | [1,2,100,-99,1,2,3] | [2,4,200,-198,2,4,6] |\n",
    "    \n",
    "1. [1, 2, 3, 4, 5]의 각 원소에 두배를 한 배열 [2, 4, 6, 8, 10]을 return합니다.\n",
    "    \n",
    "2. [1, 2, 100, -99, 1, 2, 3]의 각 원소에 두배를 한 배열 [2, 4, 200, -198, 2, 4, 6]을 return합니다.\n",
    "\n",
    "#### solution.py"
   ]
  },
  {
   "cell_type": "code",
   "execution_count": null,
   "id": "36cd696d",
   "metadata": {},
   "outputs": [],
   "source": [
    "def solution(numbers):\n",
    "    num = len(numbers)\n",
    "    for n in range(num):#배열 안 원소 갯수만큼 반복\n",
    "        numbers[n] *= 2 #원소 2배하기\n",
    "    return numbers"
   ]
  }
 ],
 "metadata": {
  "kernelspec": {
   "display_name": "Python 3 (ipykernel)",
   "language": "python",
   "name": "python3"
  },
  "language_info": {
   "codemirror_mode": {
    "name": "ipython",
    "version": 3
   },
   "file_extension": ".py",
   "mimetype": "text/x-python",
   "name": "python",
   "nbconvert_exporter": "python",
   "pygments_lexer": "ipython3",
   "version": "3.9.13"
  }
 },
 "nbformat": 4,
 "nbformat_minor": 5
}
